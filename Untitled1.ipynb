{
 "cells": [
  {
   "cell_type": "code",
   "execution_count": 1,
   "metadata": {},
   "outputs": [
    {
     "name": "stdout",
     "output_type": "stream",
     "text": [
      "1\n",
      "2\n",
      "3\n"
     ]
    }
   ],
   "source": [
    "N=input()\n",
    "H=input()\n",
    "W=input()\n"
   ]
  },
  {
   "cell_type": "code",
   "execution_count": 2,
   "metadata": {},
   "outputs": [
    {
     "name": "stdout",
     "output_type": "stream",
     "text": [
      "3\n",
      "2\n",
      "3\n",
      "2\n"
     ]
    }
   ],
   "source": [
    "N=input()\n",
    "H=input()\n",
    "W=input()\n",
    "N=int(N)\n",
    "H=int(H)\n",
    "W=int(W)\n",
    "ans=(N-H+1)*(N-W+1);\n",
    "print(ans);\n"
   ]
  },
  {
   "cell_type": "code",
   "execution_count": 3,
   "metadata": {},
   "outputs": [
    {
     "name": "stdout",
     "output_type": "stream",
     "text": [
      "100\n",
      "1\n",
      "1\n",
      "10000\n"
     ]
    }
   ],
   "source": [
    "N=input()\n",
    "H=input()\n",
    "W=input()\n",
    "N=int(N)\n",
    "H=int(H)\n",
    "W=int(W)\n",
    "ans=(N-H+1)*(N-W+1);\n",
    "print(ans);"
   ]
  },
  {
   "cell_type": "code",
   "execution_count": 4,
   "metadata": {},
   "outputs": [
    {
     "name": "stdout",
     "output_type": "stream",
     "text": [
      "5\n",
      "4\n",
      "2\n",
      "8\n"
     ]
    }
   ],
   "source": [
    "N=input()\n",
    "H=input()\n",
    "W=input()\n",
    "N=int(N)\n",
    "H=int(H)\n",
    "W=int(W)\n",
    "ans=(N-H+1)*(N-W+1);\n",
    "print(ans);"
   ]
  },
  {
   "cell_type": "code",
   "execution_count": null,
   "metadata": {},
   "outputs": [],
   "source": []
  }
 ],
 "metadata": {
  "kernelspec": {
   "display_name": "Python 3",
   "language": "python",
   "name": "python3"
  },
  "language_info": {
   "codemirror_mode": {
    "name": "ipython",
    "version": 3
   },
   "file_extension": ".py",
   "mimetype": "text/x-python",
   "name": "python",
   "nbconvert_exporter": "python",
   "pygments_lexer": "ipython3",
   "version": "3.7.0"
  }
 },
 "nbformat": 4,
 "nbformat_minor": 2
}
