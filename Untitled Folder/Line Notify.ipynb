{
 "cells": [
  {
   "cell_type": "code",
   "execution_count": 1,
   "metadata": {},
   "outputs": [
    {
     "name": "stdout",
     "output_type": "stream",
     "text": [
      "LINE:\n"
     ]
    }
   ],
   "source": [
    "import requests\n",
    "import sys\n",
    " \n",
    "token = 'GkJ8LNmLBcQQRWjnFZnrp6vTPPPBmBmBdQN6tIY4Och'\n",
    "\n",
    "stdin=sys.stdin.readlines()\n",
    "stdin=[line.rstrip()for line in stdin]#改行処理\n",
    "msg='\\r\\n'+'\\r\\n'.join(stdin)\n",
    " \n",
    "payload = {'message': 'msg'}  # 送信メッセージ\n",
    "url = 'https://notify-api.line.me/api/notify'\n",
    "headers = {'Authorization': 'Bearer ' + token}\n",
    "\n",
    "try:\n",
    "    res = requests.post(url, data=payload, headers=headers)  # LINE NotifyへPOST\n",
    "    print(f'LINE:{res.reason}')\n",
    "except:\n",
    "    print('Error')"
   ]
  },
  {
   "cell_type": "code",
   "execution_count": 1,
   "metadata": {},
   "outputs": [
    {
     "data": {
      "text/plain": [
       "'<Response [200]>'"
      ]
     },
     "execution_count": 1,
     "metadata": {},
     "output_type": "execute_result"
    }
   ],
   "source": [
    "import PyLineNotify\n",
    "TOKEN = 'GkJ8LNmLBcQQRWjnFZnrp6vTPPPBmBmBdQN6tIY4Och'\n",
    "\n",
    "PyLineNotify.send_message(token=TOKEN,message='Hello World!')"
   ]
  },
  {
   "cell_type": "code",
   "execution_count": null,
   "metadata": {},
   "outputs": [],
   "source": []
  },
  {
   "cell_type": "code",
   "execution_count": null,
   "metadata": {},
   "outputs": [],
   "source": []
  }
 ],
 "metadata": {
  "kernelspec": {
   "display_name": "Python 3",
   "language": "python",
   "name": "python3"
  },
  "language_info": {
   "codemirror_mode": {
    "name": "ipython",
    "version": 3
   },
   "file_extension": ".py",
   "mimetype": "text/x-python",
   "name": "python",
   "nbconvert_exporter": "python",
   "pygments_lexer": "ipython3",
   "version": "3.7.1"
  }
 },
 "nbformat": 4,
 "nbformat_minor": 2
}
