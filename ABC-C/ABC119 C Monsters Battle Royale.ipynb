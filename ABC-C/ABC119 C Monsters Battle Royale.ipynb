{
 "cells": [
  {
   "cell_type": "code",
   "execution_count": 6,
   "metadata": {},
   "outputs": [
    {
     "name": "stdout",
     "output_type": "stream",
     "text": [
      "4\n",
      "2 7 5 10\n",
      "1\n"
     ]
    },
    {
     "name": "stderr",
     "output_type": "stream",
     "text": [
      "c:\\programdata\\miniconda3\\lib\\site-packages\\ipykernel_launcher.py:7: DeprecationWarning: fractions.gcd() is deprecated. Use math.gcd() instead.\n",
      "  import sys\n"
     ]
    }
   ],
   "source": [
    "#math.gcdは3.5から。Atcoderは3.4\n",
    "from fractions import gcd\n",
    "n=int(input())\n",
    "a=[int(i) for i in input().split()]\n",
    "g=a[0]\n",
    "for i in range(1,len(a)):\n",
    "    g=gcd(g,a[i])\n",
    "print(g)\n"
   ]
  },
  {
   "cell_type": "code",
   "execution_count": null,
   "metadata": {},
   "outputs": [],
   "source": [
    "#2つの場合のユークリッドの互除法\n",
    "\n",
    "def gcd(a,b):\n",
    "    if b==0:\n",
    "        return int(a)\n",
    "    else:\n",
    "        gcd(b,a%b)\n",
    "#10と3のとき、まず10を割れなくなるまで3で割る。これが10%3に等しい。\n",
    "#そして3%1==0となり、最大公約数の1が帰る。\n",
    "x=int(input())\n",
    "y=int(input())\n",
    "gcd(x,y)"
   ]
  },
  {
   "cell_type": "code",
   "execution_count": null,
   "metadata": {},
   "outputs": [],
   "source": []
  },
  {
   "cell_type": "code",
   "execution_count": 8,
   "metadata": {},
   "outputs": [
    {
     "name": "stdout",
     "output_type": "stream",
     "text": [
      "0\n"
     ]
    }
   ],
   "source": [
    "print(3%1)"
   ]
  }
 ],
 "metadata": {
  "kernelspec": {
   "display_name": "Python 3",
   "language": "python",
   "name": "python3"
  },
  "language_info": {
   "codemirror_mode": {
    "name": "ipython",
    "version": 3
   },
   "file_extension": ".py",
   "mimetype": "text/x-python",
   "name": "python",
   "nbconvert_exporter": "python",
   "pygments_lexer": "ipython3",
   "version": "3.7.1"
  }
 },
 "nbformat": 4,
 "nbformat_minor": 2
}
