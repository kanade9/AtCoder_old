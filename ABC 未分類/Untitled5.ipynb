{
 "cells": [
  {
   "cell_type": "code",
   "execution_count": 3,
   "metadata": {},
   "outputs": [
    {
     "name": "stdout",
     "output_type": "stream",
     "text": [
      "6 18 100\n",
      "100\n"
     ]
    }
   ],
   "source": [
    "N,A,B=map(int,input().split())\n",
    "print(B if N*A>B else N*A )"
   ]
  },
  {
   "cell_type": "code",
   "execution_count": 32,
   "metadata": {},
   "outputs": [
    {
     "name": "stdout",
     "output_type": "stream",
     "text": [
      "1881\n",
      "No\n"
     ]
    }
   ],
   "source": [
    "X=str(input())\n",
    "print(\"Yes\" if (X[0]==X[1] and X[1]==X[2])or(X[1]==X[2] and X[2]==X[3]) else \"No\")"
   ]
  },
  {
   "cell_type": "code",
   "execution_count": 33,
   "metadata": {},
   "outputs": [
    {
     "ename": "SyntaxError",
     "evalue": "invalid syntax (<ipython-input-33-a79a5e5125aa>, line 3)",
     "output_type": "error",
     "traceback": [
      "\u001b[1;36m  File \u001b[1;32m\"<ipython-input-33-a79a5e5125aa>\"\u001b[1;36m, line \u001b[1;32m3\u001b[0m\n\u001b[1;33m    for j in range(i+j:3):\u001b[0m\n\u001b[1;37m                      ^\u001b[0m\n\u001b[1;31mSyntaxError\u001b[0m\u001b[1;31m:\u001b[0m invalid syntax\n"
     ]
    }
   ],
   "source": [
    "X=str(input())\n",
    "for i in range(3):\n",
    "    for j in range(i+j,3):\n",
    "        print(\"a\")"
   ]
  },
  {
   "cell_type": "code",
   "execution_count": 45,
   "metadata": {},
   "outputs": [
    {
     "name": "stdout",
     "output_type": "stream",
     "text": [
      "(1, 2)\n",
      "(1, 3)\n",
      "(1, 4)\n",
      "(2, 3)\n",
      "(2, 4)\n",
      "(3, 4)\n",
      "1 ,2\n",
      "1 ,3\n",
      "1 ,4\n",
      "2 ,3\n",
      "2 ,4\n",
      "3 ,4\n"
     ]
    }
   ],
   "source": [
    "import itertools\n",
    "a=[1,2,3,4]\n",
    "ia=itertools.combinations(a,2)\n",
    "for i in ia:\n",
    "    print(i)\n",
    "for i in range(4):\n",
    "    for n in range(i+1,4):\n",
    "        print('{} ,{}'.format(a[i],a[n]))\n",
    "    "
   ]
  },
  {
   "cell_type": "code",
   "execution_count": null,
   "metadata": {},
   "outputs": [],
   "source": []
  },
  {
   "cell_type": "code",
   "execution_count": null,
   "metadata": {},
   "outputs": [],
   "source": []
  }
 ],
 "metadata": {
  "kernelspec": {
   "display_name": "Python 3",
   "language": "python",
   "name": "python3"
  },
  "language_info": {
   "codemirror_mode": {
    "name": "ipython",
    "version": 3
   },
   "file_extension": ".py",
   "mimetype": "text/x-python",
   "name": "python",
   "nbconvert_exporter": "python",
   "pygments_lexer": "ipython3",
   "version": "3.7.0"
  }
 },
 "nbformat": 4,
 "nbformat_minor": 2
}
