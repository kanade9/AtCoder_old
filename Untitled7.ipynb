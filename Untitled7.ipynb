{
 "cells": [
  {
   "cell_type": "code",
   "execution_count": 7,
   "metadata": {},
   "outputs": [
    {
     "name": "stdout",
     "output_type": "stream",
     "text": [
      "100 100 100\n",
      "100 100\n"
     ]
    }
   ],
   "source": [
    "#A\n",
    "N,A,B=map(int,input().split())\n",
    "if A>=B:\n",
    "    print(B,end=' ')\n",
    "else:\n",
    "    print(A,end=' ')\n",
    "if A+B-N>=0:\n",
    "    print(A+B-N)\n",
    "else:\n",
    "    print(0)"
   ]
  },
  {
   "cell_type": "code",
   "execution_count": 21,
   "metadata": {},
   "outputs": [
    {
     "name": "stdout",
     "output_type": "stream",
     "text": [
      "7\n",
      "zenkoku\n",
      "touitsu\n",
      "program\n",
      "13\n"
     ]
    }
   ],
   "source": [
    "N=int(input())\n",
    "A=input()\n",
    "B=input()\n",
    "C=input()\n",
    "cnt=0\n",
    "for i in range(N):\n",
    "    if A[i]!=B[i]and B[i]!=C[i]and C[i]!=A[i]:\n",
    "        cnt+=2\n",
    "    if A[i]==B[i]and C[i]!=A[i] and C[i]!=B[i]:\n",
    "        cnt+=1\n",
    "    if B[i]==C[i]and A[i]!=B[i] and A[i]!=C[i]:\n",
    "        cnt+=1\n",
    "    if C[i]==A[i]and B[i]!=A[i] and B[i]!=C[i]:\n",
    "        cnt+=1\n",
    "print(cnt)\n",
    "    "
   ]
  },
  {
   "cell_type": "code",
   "execution_count": 35,
   "metadata": {},
   "outputs": [
    {
     "name": "stdout",
     "output_type": "stream",
     "text": [
      "3\n",
      "1 2\n",
      "3 4\n",
      "5 6\n",
      "2\n",
      "3\n"
     ]
    }
   ],
   "source": [
    "N=int(input())\n",
    "a = []\n",
    "for i in range(N):\n",
    "    a.append(list(map(int, input().split())))\n",
    "print(a[0][1])\n",
    "print(a[1][0])"
   ]
  },
  {
   "cell_type": "code",
   "execution_count": 7,
   "metadata": {},
   "outputs": [
    {
     "name": "stdout",
     "output_type": "stream",
     "text": [
      "3\n",
      "20 10\n",
      "20 20\n",
      "20 30\n",
      "10\n"
     ]
    }
   ],
   "source": [
    "N=int(input())\n",
    "Asan=0\n",
    "Bsan=0\n",
    "a =[]\n",
    "for i in range(N):\n",
    "    a.append(list(map(int, input().split())))\n",
    "w=[]\n",
    "e=[]\n",
    "for i in range(N):\n",
    "    w.append(int(a[i][0]))\n",
    "    e.append(int(a[i][1]))\n",
    "loop=N\n",
    "while(1):\n",
    "    if N==0:\n",
    "        break\n",
    "    else:\n",
    "        Asan+=max(w)\n",
    "        bango=w.index(max(w))\n",
    "        w[bango]=0\n",
    "        e[bango]=0\n",
    "    N-=1\n",
    "    if N==0:\n",
    "        break\n",
    "    else:\n",
    "        Bsan+=max(e)\n",
    "        bango=e.index(max(e))\n",
    "        w[bango]=0\n",
    "        e[bango]=0\n",
    "    N-=1\n",
    "print(Asan-Bsan)"
   ]
  },
  {
   "cell_type": "markdown",
   "metadata": {},
   "source": [
    "# "
   ]
  }
 ],
 "metadata": {
  "kernelspec": {
   "display_name": "Python 3",
   "language": "python",
   "name": "python3"
  },
  "language_info": {
   "codemirror_mode": {
    "name": "ipython",
    "version": 3
   },
   "file_extension": ".py",
   "mimetype": "text/x-python",
   "name": "python",
   "nbconvert_exporter": "python",
   "pygments_lexer": "ipython3",
   "version": "3.7.1"
  }
 },
 "nbformat": 4,
 "nbformat_minor": 2
}
