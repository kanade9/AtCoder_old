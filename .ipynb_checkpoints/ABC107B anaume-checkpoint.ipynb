{
 "cells": [
  {
   "cell_type": "code",
   "execution_count": 6,
   "metadata": {},
   "outputs": [
    {
     "name": "stdout",
     "output_type": "stream",
     "text": [
      "2 2\n",
      "####\n",
      "##.#\n",
      "[['#', '#', '#', '#'], ['#', '#', '.', '#']]\n"
     ]
    }
   ],
   "source": [
    "H,W=map(int,input().split())\n",
    "a=[]\n",
    "for i in range(H):\n",
    "    a.append(list(str(input())))\n",
    "print(a)"
   ]
  },
  {
   "cell_type": "code",
   "execution_count": 14,
   "metadata": {},
   "outputs": [
    {
     "name": "stdout",
     "output_type": "stream",
     "text": [
      "3 3\n",
      ".#.\n",
      "##.\n",
      "...\n",
      ".#\n",
      "##\n"
     ]
    }
   ],
   "source": [
    "#消すのは難しいから、条件を満たすものだけ書くという考え方\n",
    "h,w=map(int,input().split())\n",
    "a=['']*h\n",
    "for i in range(h):\n",
    "    a[i]=input()\n",
    "    \n",
    "row =[False]*h\n",
    "col =[False]*w\n",
    "for i in range(h):\n",
    "    for j in range(w):\n",
    "        if a[i][j]=='#':\n",
    "            row[i]=True\n",
    "            col[j]=True\n",
    "            \n",
    "for i in range(h):\n",
    "    if row[i]:\n",
    "        for j in range(w):\n",
    "            if col[j]:\n",
    "                print(a[i][j],end='')\n",
    "        print()\n"
   ]
  },
  {
   "cell_type": "code",
   "execution_count": null,
   "metadata": {},
   "outputs": [],
   "source": []
  },
  {
   "cell_type": "code",
   "execution_count": null,
   "metadata": {},
   "outputs": [
    {
     "name": "stdout",
     "output_type": "stream",
     "text": [
      "4 4\n"
     ]
    }
   ],
   "source": [
    "h,w=map(int,input().split())\n",
    "a=[]*h\n",
    "for i in range(h):\n",
    "    a[i]=input()\n",
    "print(a)"
   ]
  },
  {
   "cell_type": "code",
   "execution_count": null,
   "metadata": {},
   "outputs": [],
   "source": []
  },
  {
   "cell_type": "code",
   "execution_count": null,
   "metadata": {},
   "outputs": [],
   "source": []
  }
 ],
 "metadata": {
  "kernelspec": {
   "display_name": "Python 3",
   "language": "python",
   "name": "python3"
  },
  "language_info": {
   "codemirror_mode": {
    "name": "ipython",
    "version": 3
   },
   "file_extension": ".py",
   "mimetype": "text/x-python",
   "name": "python",
   "nbconvert_exporter": "python",
   "pygments_lexer": "ipython3",
   "version": "3.7.1"
  }
 },
 "nbformat": 4,
 "nbformat_minor": 2
}
