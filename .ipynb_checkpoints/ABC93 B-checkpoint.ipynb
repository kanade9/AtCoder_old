{
 "cells": [
  {
   "cell_type": "code",
   "execution_count": 26,
   "metadata": {},
   "outputs": [
    {
     "name": "stdout",
     "output_type": "stream",
     "text": [
      "2 2 1\n",
      "2\n"
     ]
    }
   ],
   "source": [
    "a,b,c=map(int,input().split())\n",
    "v=set([])\n",
    "if b-a<c:\n",
    "    c=b-a\n",
    "if a==b:\n",
    "    print(a)\n",
    "for i in range(c):\n",
    "    v.add(a+i)\n",
    "    v.add(b-i)\n",
    "l=list(v)\n",
    "l.sort()\n",
    "for i in range(len(l)):\n",
    "    print(l[i])\n"
   ]
  }
 ],
 "metadata": {
  "kernelspec": {
   "display_name": "Python 3",
   "language": "python",
   "name": "python3"
  },
  "language_info": {
   "codemirror_mode": {
    "name": "ipython",
    "version": 3
   },
   "file_extension": ".py",
   "mimetype": "text/x-python",
   "name": "python",
   "nbconvert_exporter": "python",
   "pygments_lexer": "ipython3",
   "version": "3.7.1"
  }
 },
 "nbformat": 4,
 "nbformat_minor": 2
}
