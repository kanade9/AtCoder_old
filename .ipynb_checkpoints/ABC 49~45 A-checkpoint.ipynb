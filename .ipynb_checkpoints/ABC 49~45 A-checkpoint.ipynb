{
 "cells": [
  {
   "cell_type": "code",
   "execution_count": 5,
   "metadata": {},
   "outputs": [
    {
     "name": "stdout",
     "output_type": "stream",
     "text": [
      "a\n",
      "vowel\n"
     ]
    }
   ],
   "source": [
    "#49\n",
    "x=['a','i','u','e','o']\n",
    "print(\"vowel\"if input() in x else \"consonant\")"
   ]
  },
  {
   "cell_type": "code",
   "execution_count": 6,
   "metadata": {},
   "outputs": [
    {
     "name": "stdout",
     "output_type": "stream",
     "text": [
      "s\n",
      "consonant\n"
     ]
    }
   ],
   "source": [
    "#mohan\n",
    "c=input()\n",
    "print(\"vowel\" if \"aeiou\".count(c) else \"consonant\")\n",
    "#\"aeiou\"はstr型だから区切る必要なし"
   ]
  },
  {
   "cell_type": "code",
   "execution_count": 13,
   "metadata": {},
   "outputs": [
    {
     "name": "stdout",
     "output_type": "stream",
     "text": [
      "Atcoder Beginner Contest\n",
      "ABC\n"
     ]
    }
   ],
   "source": [
    "#48\n",
    "a,s,c=map(str,input().split())\n",
    "print(a[0]+s[0]+c[0])"
   ]
  },
  {
   "cell_type": "code",
   "execution_count": 16,
   "metadata": {},
   "outputs": [
    {
     "name": "stdout",
     "output_type": "stream",
     "text": [
      "56 25 31\n",
      "Yes\n"
     ]
    }
   ],
   "source": [
    "#47\n",
    "a = sorted(list(map(int, input().split())), reverse=True)\n",
    "print(\"Yes\"if a[0]-a[1]-a[2]==0 else \"No\")"
   ]
  },
  {
   "cell_type": "code",
   "execution_count": null,
   "metadata": {},
   "outputs": [],
   "source": [
    "#bekkai\n",
    "A = [int(i) for i in input().split()]\n",
    "print('Yes' if sum(A) == max(A) * 2 else 'No')\n",
    "#等差中項の考え方"
   ]
  },
  {
   "cell_type": "code",
   "execution_count": 22,
   "metadata": {},
   "outputs": [
    {
     "name": "stdout",
     "output_type": "stream",
     "text": [
      "3 1 4\n",
      "3\n"
     ]
    }
   ],
   "source": [
    "#46\n",
    "print(len(set([int(i) for i in input().split()])))"
   ]
  },
  {
   "cell_type": "code",
   "execution_count": null,
   "metadata": {},
   "outputs": [],
   "source": [
    "#46 bekkai\n",
    "lists = input().split()\n",
    "print(len(set(lists)))"
   ]
  },
  {
   "cell_type": "code",
   "execution_count": 26,
   "metadata": {},
   "outputs": [
    {
     "name": "stdout",
     "output_type": "stream",
     "text": [
      "3\n",
      "4\n",
      "2\n",
      "7\n"
     ]
    }
   ],
   "source": [
    "#45\n",
    "a=int(input())\n",
    "b=int(input())\n",
    "h=int(input())\n",
    "print((a+b)*h//2)"
   ]
  },
  {
   "cell_type": "code",
   "execution_count": null,
   "metadata": {},
   "outputs": [],
   "source": []
  }
 ],
 "metadata": {
  "kernelspec": {
   "display_name": "Python 3",
   "language": "python",
   "name": "python3"
  },
  "language_info": {
   "codemirror_mode": {
    "name": "ipython",
    "version": 3
   },
   "file_extension": ".py",
   "mimetype": "text/x-python",
   "name": "python",
   "nbconvert_exporter": "python",
   "pygments_lexer": "ipython3",
   "version": "3.7.1"
  }
 },
 "nbformat": 4,
 "nbformat_minor": 2
}
