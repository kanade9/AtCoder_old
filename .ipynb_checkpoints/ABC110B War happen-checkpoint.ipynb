{
 "cells": [
  {
   "cell_type": "code",
   "execution_count": 19,
   "metadata": {},
   "outputs": [
    {
     "name": "stdout",
     "output_type": "stream",
     "text": [
      "2 2 3 3\n",
      "2 2\n",
      "2\n",
      "[[2, 2], [2]]\n"
     ]
    }
   ],
   "source": [
    "N,M,X,Y=map(int,input().split())\n",
    "a=[]\n",
    "for i in range(2):\n",
    "    a.append(list(map(int,input().split())))\n",
    "print(a)"
   ]
  },
  {
   "cell_type": "code",
   "execution_count": 33,
   "metadata": {},
   "outputs": [
    {
     "name": "stdout",
     "output_type": "stream",
     "text": [
      "5 3 6 8\n",
      "-10 3 1 5 -100\n",
      "100 6 14\n",
      "War\n"
     ]
    }
   ],
   "source": [
    "N,M,X,Y=map(int,input().split())\n",
    "x=[int(i) for i in input().split()]\n",
    "y=[int(i) for i in input().split()]\n",
    "x.append(X)\n",
    "y.append(Y)\n",
    "if min(y)-max(x)>0:\n",
    "    print(\"No War\")\n",
    "else:\n",
    "    print(\"War\")"
   ]
  },
  {
   "cell_type": "markdown",
   "metadata": {},
   "source": []
  },
  {
   "cell_type": "code",
   "execution_count": null,
   "metadata": {},
   "outputs": [],
   "source": []
  }
 ],
 "metadata": {
  "kernelspec": {
   "display_name": "Python 3",
   "language": "python",
   "name": "python3"
  },
  "language_info": {
   "codemirror_mode": {
    "name": "ipython",
    "version": 3
   },
   "file_extension": ".py",
   "mimetype": "text/x-python",
   "name": "python",
   "nbconvert_exporter": "python",
   "pygments_lexer": "ipython3",
   "version": "3.7.0"
  }
 },
 "nbformat": 4,
 "nbformat_minor": 2
}
