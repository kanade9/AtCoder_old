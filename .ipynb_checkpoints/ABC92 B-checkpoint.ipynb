{
 "cells": [
  {
   "cell_type": "code",
   "execution_count": 18,
   "metadata": {},
   "outputs": [
    {
     "name": "stdout",
     "output_type": "stream",
     "text": [
      "5\n",
      "30 44\n",
      "26\n",
      "18\n",
      "81\n",
      "18\n",
      "6\n",
      "56\n"
     ]
    }
   ],
   "source": [
    "N=int(input())\n",
    "D,X=map(int,input().split())\n",
    "a = [int(input()) for i in range(N)]\n",
    "ans=0\n",
    "for i in range(N):\n",
    "    n=0\n",
    "    while(1):\n",
    "        if a[i]*n+1>D:\n",
    "            break\n",
    "        else:\n",
    "            ans+=1\n",
    "            n+=1\n",
    "print(ans+X)"
   ]
  },
  {
   "cell_type": "markdown",
   "metadata": {},
   "source": [
    " "
   ]
  }
 ],
 "metadata": {
  "kernelspec": {
   "display_name": "Python 3",
   "language": "python",
   "name": "python3"
  },
  "language_info": {
   "codemirror_mode": {
    "name": "ipython",
    "version": 3
   },
   "file_extension": ".py",
   "mimetype": "text/x-python",
   "name": "python",
   "nbconvert_exporter": "python",
   "pygments_lexer": "ipython3",
   "version": "3.7.1"
  }
 },
 "nbformat": 4,
 "nbformat_minor": 2
}
