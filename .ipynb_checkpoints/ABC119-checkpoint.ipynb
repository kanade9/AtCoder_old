{
 "cells": [
  {
   "cell_type": "code",
   "execution_count": 7,
   "metadata": {},
   "outputs": [
    {
     "name": "stdout",
     "output_type": "stream",
     "text": [
      "2019/08/29\n",
      "TBD\n"
     ]
    }
   ],
   "source": [
    "#A\n",
    "s=input()\n",
    "if int(s[5])==1 or int(s[6])>=5 :\n",
    "    print(\"TBD\")\n",
    "else:\n",
    "    print('Heisei')"
   ]
  },
  {
   "cell_type": "code",
   "execution_count": 12,
   "metadata": {},
   "outputs": [
    {
     "name": "stdout",
     "output_type": "stream",
     "text": [
      "2\n",
      "10000 JPY\n",
      "0.1000000 BTC\n",
      "48000.0\n"
     ]
    }
   ],
   "source": [
    "#B\n",
    "N=int(input())\n",
    "x=list()\n",
    "u=list()\n",
    "for i in range(N):\n",
    "    a,b=map(str,input().split())\n",
    "    x.append(float(a))\n",
    "    u.append(b)\n",
    "sum=0\n",
    "for i in range(N):\n",
    "    if u[i]=='BTC':\n",
    "        sum+=x[i]*380000\n",
    "    else:\n",
    "        sum+=x[i]\n",
    "print(sum)"
   ]
  },
  {
   "cell_type": "code",
   "execution_count": 13,
   "metadata": {},
   "outputs": [
    {
     "name": "stdout",
     "output_type": "stream",
     "text": [
      "3 4 5 6\n",
      "1\n",
      "3\n",
      "2\n",
      "[3, 2, 1]\n"
     ]
    }
   ],
   "source": [
    "#C\n",
    "N,A,B,C=map(int,input().split())\n",
    "l = [int(input()) for i in range(N)]\n",
    "l.sort(reverse=True)\n",
    "print(l)\n"
   ]
  },
  {
   "cell_type": "code",
   "execution_count": 17,
   "metadata": {},
   "outputs": [
    {
     "name": "stdout",
     "output_type": "stream",
     "text": [
      "3 4 5 6\n",
      "5\n",
      "4\n",
      "1\n",
      "[0, 0, 1]\n"
     ]
    }
   ],
   "source": [
    "#a[0]=n\n",
    "a = list(map(int,input().split()))\n",
    "l = [int(input()) for i in range(a[0])]\n",
    "l.sort(reverse=True)\n",
    "\n",
    "for i in range(a[0]):\n",
    "    for j in range(1,4):\n",
    "        if l[i]==a[j]:\n",
    "            l[i]=0\n",
    "cost=0\n",
    "print(l)\n",
    "\n",
    "\n"
   ]
  },
  {
   "cell_type": "code",
   "execution_count": 27,
   "metadata": {},
   "outputs": [
    {
     "name": "stdout",
     "output_type": "stream",
     "text": [
      "8 100 90 80\n",
      "100\n",
      "100\n",
      "90\n",
      "90\n",
      "90\n",
      "80\n",
      "80\n",
      "80\n",
      "376\n"
     ]
    }
   ],
   "source": [
    "a = list(map(int,input().split()))\n",
    "l = [int(input()) for i in range(a[0])]\n",
    "for i in range(a[0]):\n",
    "    for i in range(1,4)\n",
    "        if l[i]==a[j]:\n",
    "            l[i]=0\n",
    "            a[j]=0\n",
    "            \n",
    "l.sort(reverse=True)\n",
    "cost=0\n",
    "costmp1=0\n",
    "costsyn=0\n",
    "\n",
    "if a[1]=0:\n",
    "    costmp1=abs(a[1]-l[0])\n",
    "    synl=l[0]\n",
    "    nokori=0\n",
    "    for i in raneg(a[0]):\n",
    "        nokori=abs(synl-a[1]):\n",
    "        while \n",
    "        if abs(nokori-a[i])>10:\n",
    "            synl+=a[i]\n",
    "            cost+=10\n",
    "        else:\n",
    "            cost+=(nokori-a[i])"
   ]
  },
  {
   "cell_type": "markdown",
   "metadata": {},
   "source": [
    "a = list(map(int,input().split()))\n",
    "l = [int(input()) for i in range(a[0])]\n",
    "for i in range(a[0]):\n",
    "    for i in range(1,4)\n",
    "        if l[i]==a[j]:\n",
    "            l[i]=0\n",
    "            a[j]=0\n",
    "            \n",
    "l.sort(reverse=True)\n",
    "cost=0\n",
    "costmp1=0\n",
    "costsyn=0\n",
    "\n",
    "if a[1]=0:\n",
    "    costmp1=abs(a[1]-l[0])\n",
    "    synl=l[0]\n",
    "    nokori=0\n",
    "    for i in raneg(a[0]):\n",
    "        nokori=abs(synl-a[1]):\n",
    "        while \n",
    "        if abs(nokori-a[i])>10:\n",
    "            synl+=a[i]\n",
    "            cost+=10\n",
    "        else:\n",
    "            cost+=(nokori-a[i])"
   ]
  },
  {
   "cell_type": "code",
   "execution_count": 30,
   "metadata": {},
   "outputs": [
    {
     "ename": "SyntaxError",
     "evalue": "invalid syntax (<ipython-input-30-dc9e0c7164b6>, line 14)",
     "output_type": "error",
     "traceback": [
      "\u001b[1;36m  File \u001b[1;32m\"<ipython-input-30-dc9e0c7164b6>\"\u001b[1;36m, line \u001b[1;32m14\u001b[0m\n\u001b[1;33m    if a[i]=get_ipython().getoutput('0:')\u001b[0m\n\u001b[1;37m           ^\u001b[0m\n\u001b[1;31mSyntaxError\u001b[0m\u001b[1;31m:\u001b[0m invalid syntax\n"
     ]
    }
   ],
   "source": [
    "a = list(map(int,input().split()))\n",
    "l = [int(input()) for i in range(a[0])]\n",
    "for i in range(a[0]):\n",
    "    for i in range(1,4):\n",
    "        if l[i]==a[j]:\n",
    "            l[i]=0\n",
    "            a[j]=0\n",
    "            \n",
    "l.sort(reverse=True)\n",
    "cost=0\n",
    "nokori=0\n",
    "\n",
    "for i in range(1,4):\n",
    "    if a[i]=!0:\n",
    "        l.sort(reverse=True)\n",
    "        if abs(a[i]-l[0])<=10:\n",
    "            cost+=abs(a[i]-l[0])\n",
    "            l[0]=0\n",
    "        else:\n",
    "        #tasu\n",
    "            synl=l[0]\n",
    "            nokori=abs(synl-a[i]): #あと残りは？\n",
    "            index=1\n",
    "            while(1):\n",
    "                if index==(a[0]-1):\n",
    "                    break\n",
    "                if nokori>=10+abs(nokori-a[index]): #10+は更に合成\n",
    "                    nokori+=a[index]\n",
    "                    l[index]=0\n",
    "                    index+=1\n",
    "                    cost+=10\n",
    "                else:\n",
    "                    cost+=abs(nokori-a[index])\n",
    "                    break\n",
    "print(cost)"
   ]
  },
  {
   "cell_type": "code",
   "execution_count": 39,
   "metadata": {},
   "outputs": [
    {
     "name": "stdout",
     "output_type": "stream",
     "text": [
      "5 100 90 80\n",
      "98\n",
      "40\n",
      "30\n",
      "21\n",
      "80\n",
      "2\n",
      "50\n",
      "52\n"
     ]
    }
   ],
   "source": [
    "a = list(map(int,input().split()))\n",
    "l = [int(input()) for i in range(a[0])]\n",
    "for i in range(a[0]):\n",
    "    for j in range(1,4):\n",
    "        if l[i]==a[j]:\n",
    "            l[i]=0\n",
    "            a[j]=0\n",
    "            #print('same')\n",
    "            \n",
    "l.sort(reverse=True)\n",
    "cost=0\n",
    "nokori=0\n",
    "\n",
    "for i in range(1,4):\n",
    "    if a[i]!=0:\n",
    "        l.sort(reverse=True)\n",
    "        if abs(a[i]-l[0])<=10:\n",
    "            print(abs(a[i]-l[0]))\n",
    "            cost+=abs(a[i]-l[0])\n",
    "            l[0]=0\n",
    "        else:\n",
    "        #tasu\n",
    "            synl=l[0]\n",
    "            nokori=abs(synl-a[i])\n",
    "            index=1\n",
    "            while(1):\n",
    "                if index==(a[0]-1):\n",
    "                    break\n",
    "                if nokori>=10+abs(nokori-a[index]): #10+は更に合成\n",
    "                    nokori+=a[index]\n",
    "                    l[index]=0\n",
    "                    index+=1\n",
    "                    cost+=10\n",
    "                else:\n",
    "                    cost+=abs(nokori-a[index])\n",
    "                    print(abs(nokori-a[index]))\n",
    "                    break\n",
    "print(cost)"
   ]
  },
  {
   "cell_type": "code",
   "execution_count": null,
   "metadata": {},
   "outputs": [],
   "source": []
  }
 ],
 "metadata": {
  "kernelspec": {
   "display_name": "Python 3",
   "language": "python",
   "name": "python3"
  },
  "language_info": {
   "codemirror_mode": {
    "name": "ipython",
    "version": 3
   },
   "file_extension": ".py",
   "mimetype": "text/x-python",
   "name": "python",
   "nbconvert_exporter": "python",
   "pygments_lexer": "ipython3",
   "version": "3.7.1"
  }
 },
 "nbformat": 4,
 "nbformat_minor": 2
}
