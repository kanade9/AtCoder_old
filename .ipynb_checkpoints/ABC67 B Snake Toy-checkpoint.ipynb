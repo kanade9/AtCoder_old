{
 "cells": [
  {
   "cell_type": "code",
   "execution_count": 10,
   "metadata": {},
   "outputs": [
    {
     "name": "stdout",
     "output_type": "stream",
     "text": [
      "15 14\n",
      "50 26 27 21 41 7 42 35 7 5 5 36 39 1 45\n",
      "386\n"
     ]
    }
   ],
   "source": [
    "n,k=map(int,input().split())\n",
    "x=[int(i) for i in input().split()]\n",
    "ans=0\n",
    "for i in range(k):\n",
    "    x.sort()\n",
    "    ans+=max(x)\n",
    "    x.pop(-1)\n",
    "print(ans)"
   ]
  },
  {
   "cell_type": "code",
   "execution_count": 12,
   "metadata": {},
   "outputs": [
    {
     "name": "stdout",
     "output_type": "stream",
     "text": [
      "15 14\n",
      "50 26 27 21 41 7 42 35 7 5 5 36 39 1 45\n",
      "[1, 5, 5, 7, 7, 21, 26, 27, 35, 36, 39, 41, 42, 45, 50]\n",
      "337\n"
     ]
    }
   ],
   "source": [
    "#mohan\n",
    "n,k = map(int,input().split())\n",
    "l = sorted(list(map(int,input().split())))\n",
    "print(l)\n",
    "print(sum(l[:k]))"
   ]
  },
  {
   "cell_type": "code",
   "execution_count": 13,
   "metadata": {},
   "outputs": [
    {
     "name": "stdout",
     "output_type": "stream",
     "text": [
      "15 14\n",
      "50 26 27 21 41 7 42 35 7 5 5 36 39 1 45\n",
      "[50, 45, 42, 41, 39, 36, 35, 27, 26, 21, 7, 7, 5, 5, 1]\n",
      "386\n"
     ]
    }
   ],
   "source": [
    "n,k = map(int,input().split())\n",
    "l = sorted(list(map(int,input().split())))[::-1]\n",
    "print(l)\n",
    "print(sum(l[:k]))"
   ]
  },
  {
   "cell_type": "code",
   "execution_count": null,
   "metadata": {},
   "outputs": [],
   "source": []
  }
 ],
 "metadata": {
  "kernelspec": {
   "display_name": "Python 3",
   "language": "python",
   "name": "python3"
  },
  "language_info": {
   "codemirror_mode": {
    "name": "ipython",
    "version": 3
   },
   "file_extension": ".py",
   "mimetype": "text/x-python",
   "name": "python",
   "nbconvert_exporter": "python",
   "pygments_lexer": "ipython3",
   "version": "3.7.1"
  }
 },
 "nbformat": 4,
 "nbformat_minor": 2
}
