{
 "cells": [
  {
   "cell_type": "code",
   "execution_count": 5,
   "metadata": {},
   "outputs": [
    {
     "name": "stdout",
     "output_type": "stream",
     "text": [
      "400 1000 400 20\n",
      "10 10\n",
      "6000\n"
     ]
    }
   ],
   "source": [
    "#24\n",
    "a,b,c,k=map(int,input().split())\n",
    "s,t=map(int,input().split())\n",
    "print(a*s+b*t if s+t<k else (a*s+b*t)-c*(s+t))"
   ]
  },
  {
   "cell_type": "code",
   "execution_count": 9,
   "metadata": {},
   "outputs": [
    {
     "name": "stdout",
     "output_type": "stream",
     "text": [
      "26\n",
      "8\n",
      "26\n"
     ]
    }
   ],
   "source": [
    "#23\n",
    "x=input()\n",
    "print(int(x[0])+int(x[1]))"
   ]
  },
  {
   "cell_type": "code",
   "execution_count": 17,
   "metadata": {},
   "outputs": [
    {
     "name": "stdout",
     "output_type": "stream",
     "text": [
      "5 60 70\n",
      "50\n",
      "10\n",
      "10\n",
      "10\n",
      "10\n",
      "50\n",
      "60\n",
      "70\n",
      "80\n",
      "90\n",
      "2\n"
     ]
    }
   ],
   "source": [
    "#22\n",
    "n,s,t=map(int,input().split())\n",
    "w=int(input())\n",
    "a=[]\n",
    "a = [int(input()) for i in range(n-1)]\n",
    "\n",
    "cnt=0\n",
    "index=0\n",
    "while(1):\n",
    "    if s<=w and w<=t:\n",
    "        cnt+=1\n",
    "    if index==n-1:\n",
    "        break\n",
    "    else:\n",
    "        w+=a[index]\n",
    "        index+=1\n",
    "    \n",
    "print(cnt)"
   ]
  },
  {
   "cell_type": "code",
   "execution_count": null,
   "metadata": {},
   "outputs": [],
   "source": [
    "#22 bekkai\n",
    "N, S, T = map(int, input().split())\n",
    "W = 0\n",
    "ret = 0\n",
    "for _ in range(N):  \n",
    "    W += int(input())\n",
    "    if S <= W <= T:\n",
    "        ret += 1      \n",
    "print(ret) \n",
    "#毎回読ませる"
   ]
  },
  {
   "cell_type": "code",
   "execution_count": 23,
   "metadata": {},
   "outputs": [
    {
     "name": "stdout",
     "output_type": "stream",
     "text": [
      "1\n",
      "1\n",
      "1\n"
     ]
    }
   ],
   "source": [
    "#21\n",
    "N=int(input())\n",
    "print(N)\n",
    "for i in range(N):\n",
    "    print(1)"
   ]
  },
  {
   "cell_type": "code",
   "execution_count": 28,
   "metadata": {},
   "outputs": [
    {
     "name": "stdout",
     "output_type": "stream",
     "text": [
      "2\n",
      "chokudai\n"
     ]
    }
   ],
   "source": [
    "#20\n",
    "print('ABC'if '1'==input() else 'chokudai')"
   ]
  },
  {
   "cell_type": "code",
   "execution_count": null,
   "metadata": {},
   "outputs": [],
   "source": []
  }
 ],
 "metadata": {
  "kernelspec": {
   "display_name": "Python 3",
   "language": "python",
   "name": "python3"
  },
  "language_info": {
   "codemirror_mode": {
    "name": "ipython",
    "version": 3
   },
   "file_extension": ".py",
   "mimetype": "text/x-python",
   "name": "python",
   "nbconvert_exporter": "python",
   "pygments_lexer": "ipython3",
   "version": "3.7.1"
  }
 },
 "nbformat": 4,
 "nbformat_minor": 2
}
