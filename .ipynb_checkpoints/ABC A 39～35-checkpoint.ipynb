{
 "cells": [
  {
   "cell_type": "code",
   "execution_count": 3,
   "metadata": {},
   "outputs": [
    {
     "name": "stdout",
     "output_type": "stream",
     "text": [
      "3 4 2\n",
      "52\n"
     ]
    }
   ],
   "source": [
    "#39\n",
    "a,b,c=map(int,input().split())\n",
    "print(2*(a*b+b*c+c*a))"
   ]
  },
  {
   "cell_type": "code",
   "execution_count": 6,
   "metadata": {},
   "outputs": [
    {
     "name": "stdout",
     "output_type": "stream",
     "text": [
      "MUCHICHA\n",
      "NO\n"
     ]
    }
   ],
   "source": [
    "#38\n",
    "s=input()\n",
    "print(\"YES\"if s[-1]=='T' else \"NO\")"
   ]
  },
  {
   "cell_type": "code",
   "execution_count": 9,
   "metadata": {},
   "outputs": [
    {
     "name": "stdout",
     "output_type": "stream",
     "text": [
      "8 6 20\n",
      "3\n"
     ]
    }
   ],
   "source": [
    "#37\n",
    "a,b,c=map(int,input().split())\n",
    "print(c//min(a,b))"
   ]
  },
  {
   "cell_type": "code",
   "execution_count": 11,
   "metadata": {},
   "outputs": [
    {
     "name": "stdout",
     "output_type": "stream",
     "text": [
      "12 100\n",
      "9\n"
     ]
    }
   ],
   "source": [
    "#36\n",
    "a,b=map(int,input().split())\n",
    "print(b//a if b%a==0 else b//a+1)"
   ]
  },
  {
   "cell_type": "code",
   "execution_count": 3,
   "metadata": {},
   "outputs": [
    {
     "name": "stdout",
     "output_type": "stream",
     "text": [
      "28 21\n",
      "4:3\n"
     ]
    }
   ],
   "source": [
    "#35\n",
    "w,h=map(int,input().split())\n",
    "a=0\n",
    "while(1):\n",
    "    a+=1\n",
    "    if w//a==4 and h//a==3:\n",
    "        print(\"4:3\")\n",
    "        break\n",
    "    if w//a==16 and h//a==9:\n",
    "        print(\"16:9\")\n",
    "        break"
   ]
  },
  {
   "cell_type": "code",
   "execution_count": null,
   "metadata": {},
   "outputs": [],
   "source": []
  }
 ],
 "metadata": {
  "kernelspec": {
   "display_name": "Python 3",
   "language": "python",
   "name": "python3"
  },
  "language_info": {
   "codemirror_mode": {
    "name": "ipython",
    "version": 3
   },
   "file_extension": ".py",
   "mimetype": "text/x-python",
   "name": "python",
   "nbconvert_exporter": "python",
   "pygments_lexer": "ipython3",
   "version": "3.7.1"
  }
 },
 "nbformat": 4,
 "nbformat_minor": 2
}
