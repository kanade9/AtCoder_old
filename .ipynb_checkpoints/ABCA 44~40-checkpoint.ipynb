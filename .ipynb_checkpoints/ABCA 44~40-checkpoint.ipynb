{
 "cells": [
  {
   "cell_type": "code",
   "execution_count": 7,
   "metadata": {},
   "outputs": [
    {
     "name": "stdout",
     "output_type": "stream",
     "text": [
      "2\n",
      "3\n",
      "10000\n",
      "9000\n",
      "20000\n"
     ]
    }
   ],
   "source": [
    "#44\n",
    "n=int(input())\n",
    "k=int(input())\n",
    "x=int(input())\n",
    "y=int(input())\n",
    "print(k*x+(n-k)*y if n>=k else n*x)"
   ]
  },
  {
   "cell_type": "code",
   "execution_count": 20,
   "metadata": {},
   "outputs": [
    {
     "name": "stdout",
     "output_type": "stream",
     "text": [
      "13\n",
      "91\n"
     ]
    }
   ],
   "source": [
    "#43\n",
    "n=int(input())\n",
    "print((1+n)*n//2)"
   ]
  },
  {
   "cell_type": "code",
   "execution_count": 23,
   "metadata": {},
   "outputs": [
    {
     "name": "stdout",
     "output_type": "stream",
     "text": [
      "7 7 5\n",
      "NO\n"
     ]
    }
   ],
   "source": [
    "#42\n",
    "a = sorted(list(map(int, input().split())))\n",
    "print(\"YES\"if a[0]==5 and a[1]==5 and a[2]==7 else \"NO\")"
   ]
  },
  {
   "cell_type": "code",
   "execution_count": 29,
   "metadata": {},
   "outputs": [
    {
     "name": "stdout",
     "output_type": "stream",
     "text": [
      "z\n",
      "1\n",
      "z\n"
     ]
    }
   ],
   "source": [
    "#41\n",
    "s=input()\n",
    "print(s[int(input())-1])"
   ]
  },
  {
   "cell_type": "code",
   "execution_count": 32,
   "metadata": {},
   "outputs": [
    {
     "name": "stdout",
     "output_type": "stream",
     "text": [
      "90 30\n",
      "29\n"
     ]
    }
   ],
   "source": [
    "#40\n",
    "n,x=map(int,input().split())\n",
    "print((x-1)if n//2>=x else n-x)"
   ]
  },
  {
   "cell_type": "code",
   "execution_count": null,
   "metadata": {},
   "outputs": [],
   "source": []
  },
  {
   "cell_type": "code",
   "execution_count": null,
   "metadata": {},
   "outputs": [],
   "source": [
    "6 "
   ]
  }
 ],
 "metadata": {
  "kernelspec": {
   "display_name": "Python 3",
   "language": "python",
   "name": "python3"
  },
  "language_info": {
   "codemirror_mode": {
    "name": "ipython",
    "version": 3
   },
   "file_extension": ".py",
   "mimetype": "text/x-python",
   "name": "python",
   "nbconvert_exporter": "python",
   "pygments_lexer": "ipython3",
   "version": "3.7.1"
  }
 },
 "nbformat": 4,
 "nbformat_minor": 2
}
