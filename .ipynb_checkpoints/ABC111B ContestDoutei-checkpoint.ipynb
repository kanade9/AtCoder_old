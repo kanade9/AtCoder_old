{
 "cells": [
  {
   "cell_type": "code",
   "execution_count": 28,
   "metadata": {},
   "outputs": [
    {
     "name": "stdout",
     "output_type": "stream",
     "text": [
      "112\n",
      "[1, 1, 2]\n"
     ]
    }
   ],
   "source": [
    "N=str(input())\n",
    "Comp=[]\n",
    "for i in range(3):\n",
    "    Comp.append(int(N[i]))\n",
    "print(Comp)"
   ]
  },
  {
   "cell_type": "code",
   "execution_count": 12,
   "metadata": {},
   "outputs": [
    {
     "name": "stdout",
     "output_type": "stream",
     "text": [
      "750\n",
      "777"
     ]
    }
   ],
   "source": [
    "N=str(input())\n",
    "Comp=[]\n",
    "for i in range(3):\n",
    "    Comp.append(int(N[i]))\n",
    "if Comp[0]-Comp[1]<0:\n",
    "    A=Comp[0]+1\n",
    "if Comp[0]-Comp[1]>0:\n",
    "    A=Comp[0]\n",
    "if Comp[0]-Comp[1]==0:\n",
    "    if Comp[1]-Comp[2]<0:\n",
    "        A=Comp[1]+1\n",
    "    else:\n",
    "        A=Comp[1]\n",
    "for i in range(3):\n",
    "    print(A,end='')\n",
    "    "
   ]
  },
  {
   "cell_type": "code",
   "execution_count": null,
   "metadata": {},
   "outputs": [],
   "source": []
  }
 ],
 "metadata": {
  "kernelspec": {
   "display_name": "Python 3",
   "language": "python",
   "name": "python3"
  },
  "language_info": {
   "codemirror_mode": {
    "name": "ipython",
    "version": 3
   },
   "file_extension": ".py",
   "mimetype": "text/x-python",
   "name": "python",
   "nbconvert_exporter": "python",
   "pygments_lexer": "ipython3",
   "version": "3.7.0"
  }
 },
 "nbformat": 4,
 "nbformat_minor": 2
}
