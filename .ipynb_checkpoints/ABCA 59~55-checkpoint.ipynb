{
 "cells": [
  {
   "cell_type": "code",
   "execution_count": 10,
   "metadata": {},
   "outputs": [
    {
     "name": "stdout",
     "output_type": "stream",
     "text": [
      "sss ddd fff\n",
      "SDF"
     ]
    }
   ],
   "source": [
    "#59\n",
    "a,b,c=map(str,input().split())\n",
    "print(a[0].upper(),end='')\n",
    "print(b[0].upper(),end='')\n",
    "print(c[0].upper(),end='')"
   ]
  },
  {
   "cell_type": "code",
   "execution_count": 15,
   "metadata": {},
   "outputs": [
    {
     "name": "stdout",
     "output_type": "stream",
     "text": [
      "as de fr\n",
      "ADF"
     ]
    }
   ],
   "source": [
    "#59 mohan\n",
    "for a in input().upper().split():print(a[0],end='')"
   ]
  },
  {
   "cell_type": "code",
   "execution_count": 20,
   "metadata": {},
   "outputs": [
    {
     "name": "stdout",
     "output_type": "stream",
     "text": [
      "3 2 1\n",
      "YES\n"
     ]
    }
   ],
   "source": [
    "#58\n",
    "a,b,c=map(int,input().split())\n",
    "print(\"YES\"if b-a==c-b else \"NO\")"
   ]
  },
  {
   "cell_type": "code",
   "execution_count": 23,
   "metadata": {},
   "outputs": [
    {
     "name": "stdout",
     "output_type": "stream",
     "text": [
      "23 2\n",
      "1\n"
     ]
    }
   ],
   "source": [
    "#57\n",
    "a,b=map(int,input().split())\n",
    "print(a+b if a+b<24 else a+b-24)"
   ]
  },
  {
   "cell_type": "code",
   "execution_count": 28,
   "metadata": {},
   "outputs": [
    {
     "name": "stdout",
     "output_type": "stream",
     "text": [
      "H H\n",
      "H\n"
     ]
    }
   ],
   "source": [
    "#56\n",
    "a,b=map(str,input().split())\n",
    "print(\"H\" if a==b else \"D\")"
   ]
  },
  {
   "cell_type": "code",
   "execution_count": 33,
   "metadata": {},
   "outputs": [
    {
     "name": "stdout",
     "output_type": "stream",
     "text": [
      "60\n",
      "47200\n"
     ]
    }
   ],
   "source": [
    "#55\n",
    "n=int(input())\n",
    "print(800*n-(int(n/15)*200))"
   ]
  },
  {
   "cell_type": "code",
   "execution_count": null,
   "metadata": {},
   "outputs": [],
   "source": []
  }
 ],
 "metadata": {
  "kernelspec": {
   "display_name": "Python 3",
   "language": "python",
   "name": "python3"
  },
  "language_info": {
   "codemirror_mode": {
    "name": "ipython",
    "version": 3
   },
   "file_extension": ".py",
   "mimetype": "text/x-python",
   "name": "python",
   "nbconvert_exporter": "python",
   "pygments_lexer": "ipython3",
   "version": "3.7.1"
  }
 },
 "nbformat": 4,
 "nbformat_minor": 2
}
