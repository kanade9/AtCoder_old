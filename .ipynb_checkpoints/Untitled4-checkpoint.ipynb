{
 "cells": [
  {
   "cell_type": "code",
   "execution_count": 5,
   "metadata": {},
   "outputs": [
    {
     "name": "stdout",
     "output_type": "stream",
     "text": [
      "1 7 6 4\n",
      "Right\n"
     ]
    }
   ],
   "source": [
    "A,B,C,D=map(int,input().split())\n",
    "if A+B<C+D:\n",
    "    print(\"Right\")\n",
    "elif A+B>C+D:\n",
    "    print(\"Left\")\n",
    "else:\n",
    "    print(\"Balanced\")"
   ]
  },
  {
   "cell_type": "code",
   "execution_count": 7,
   "metadata": {},
   "outputs": [
    {
     "name": "stdout",
     "output_type": "stream",
     "text": [
      "A B\n",
      "<\n"
     ]
    }
   ],
   "source": [
    "X,Y=input().split()\n",
    "if X<Y:\n",
    "     print(\"<\")\n",
    "elif X>Y:\n",
    "     print(\">\")\n",
    "else:\n",
    "     print(\"=\")"
   ]
  },
  {
   "cell_type": "code",
   "execution_count": 16,
   "metadata": {},
   "outputs": [
    {
     "name": "stdout",
     "output_type": "stream",
     "text": [
      "64145 123 456\n",
      "109\n"
     ]
    }
   ],
   "source": [
    "X,Y,Z=map(int,input().split())\n",
    "print(int((X-Z)/(Y+Z)))"
   ]
  },
  {
   "cell_type": "code",
   "execution_count": 29,
   "metadata": {},
   "outputs": [
    {
     "name": "stdout",
     "output_type": "stream",
     "text": [
      "30\n",
      "40\n",
      "50\n",
      "6000\n",
      "213\n"
     ]
    }
   ],
   "source": [
    "A=int(input())\n",
    "B=int(input())\n",
    "C=int(input())\n",
    "X=int(input())\n",
    "cnt=0\n",
    "for i in range(A+1):\n",
    "    for j in range(B+1):\n",
    "        for k in range(C+1):\n",
    "            if 500*i+100*j+50*k==X:\n",
    "                cnt+=1\n",
    "print(cnt)\n",
    "               \n",
    "        "
   ]
  },
  {
   "cell_type": "code",
   "execution_count": null,
   "metadata": {},
   "outputs": [],
   "source": []
  },
  {
   "cell_type": "code",
   "execution_count": null,
   "metadata": {},
   "outputs": [],
   "source": []
  }
 ],
 "metadata": {
  "kernelspec": {
   "display_name": "Python 3",
   "language": "python",
   "name": "python3"
  },
  "language_info": {
   "codemirror_mode": {
    "name": "ipython",
    "version": 3
   },
   "file_extension": ".py",
   "mimetype": "text/x-python",
   "name": "python",
   "nbconvert_exporter": "python",
   "pygments_lexer": "ipython3",
   "version": "3.7.0"
  }
 },
 "nbformat": 4,
 "nbformat_minor": 2
}
