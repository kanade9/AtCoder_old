{
 "cells": [
  {
   "cell_type": "code",
   "execution_count": 3,
   "metadata": {},
   "outputs": [
    {
     "name": "stdout",
     "output_type": "stream",
     "text": [
      "1 1\n",
      "2\n"
     ]
    }
   ],
   "source": [
    "#A\n",
    "a,b=map(int,input().split())\n",
    "print(a+b if b%a==0 else b-a)"
   ]
  },
  {
   "cell_type": "code",
   "execution_count": 25,
   "metadata": {},
   "outputs": [
    {
     "name": "stdout",
     "output_type": "stream",
     "text": [
      "1 30\n",
      "3 5 10 30\n",
      "3\n"
     ]
    }
   ],
   "source": [
    "#B\n",
    "n, m= list(map(int, input().split()))\n",
    "a = []\n",
    "cnt=[]\n",
    "num=0\n",
    "for i in range(n):\n",
    "    a.append(list(map(int, input().split())))\n",
    "for i in range(31):\n",
    "    cnt.append(0)\n",
    "for i in range(n):\n",
    "    for j in range(1,a[i][0]+1):\n",
    "        tmp=a[i][j]\n",
    "        cnt[tmp]+=1\n",
    "for i in range(31):\n",
    "    if cnt[i]==n:\n",
    "        num+=1\n",
    "print(num)"
   ]
  },
  {
   "cell_type": "code",
   "execution_count": 42,
   "metadata": {},
   "outputs": [
    {
     "name": "stdout",
     "output_type": "stream",
     "text": [
      "0\n"
     ]
    }
   ],
   "source": [
    "print(0%2)"
   ]
  },
  {
   "cell_type": "code",
   "execution_count": null,
   "metadata": {},
   "outputs": [],
   "source": [
    "#mohan\n",
    "N = int(input())\n",
    "A = [int(i) for i in input().split()]\n",
    "A=list(set(A))\n",
    "A.sort()\n",
    " \n",
    "while True:\n",
    "    B=copy.deepcopy(A)\n",
    "    for i in range(1, len(A)):\n",
    "        A[i] = A[i] % A[0] if not A[i] % A[0] ==0 else A[i]\n",
    " \n",
    "    if B==A or len(A)==1:\n",
    "        print(min(A))\n",
    "        exit(0)\n",
    "    A = list(set(A))\n",
    "    A.sort()"
   ]
  },
  {
   "cell_type": "code",
   "execution_count": 7,
   "metadata": {},
   "outputs": [
    {
     "name": "stdout",
     "output_type": "stream",
     "text": [
      "4\n",
      "5 13 8 1000000\n",
      "1\n"
     ]
    }
   ],
   "source": [
    "#mohan kai\n",
    "import copy\n",
    "N = int(input())\n",
    "A = [int(i) for i in input().split()]\n",
    "A=sorted(list(set(A)))\n",
    "\n",
    "while(1):\n",
    "    B=copy.deepcopy(A)\n",
    "    #print(A)\n",
    "    for i in range(1,len(A)):\n",
    "        A[i] = A[i]%A[0] if A[i]%A[0]!=0 else A[i]\n",
    "    if A==B or len(A)==1:\n",
    "        print(min(A))\n",
    "        break\n",
    "    else:\n",
    "        A=sorted(list(set(A)))"
   ]
  },
  {
   "cell_type": "code",
   "execution_count": null,
   "metadata": {},
   "outputs": [],
   "source": []
  }
 ],
 "metadata": {
  "kernelspec": {
   "display_name": "Python 3",
   "language": "python",
   "name": "python3"
  }
 },
 "nbformat": 4,
 "nbformat_minor": 2
}
