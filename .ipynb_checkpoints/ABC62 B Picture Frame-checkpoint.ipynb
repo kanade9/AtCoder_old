{
 "cells": [
  {
   "cell_type": "code",
   "execution_count": 18,
   "metadata": {},
   "outputs": [
    {
     "name": "stdout",
     "output_type": "stream",
     "text": [
      "1 1\n",
      "z\n",
      "###\n",
      "#z#\n",
      "###\n"
     ]
    }
   ],
   "source": [
    "h,w=map(int,input().split())\n",
    "b = []\n",
    "for i in range(h):\n",
    "    b.append(input())\n",
    "    \n",
    "for i in range(h+2):\n",
    "    for j in range(w+2):\n",
    "        if j==w+1:\n",
    "            print('#')\n",
    "        elif i==0 or i==h+1:\n",
    "            print('#',end='')\n",
    "        elif j==0:\n",
    "            print('#',end='')\n",
    "        else:\n",
    "            print(b[i-1][j-1],end='')"
   ]
  },
  {
   "cell_type": "code",
   "execution_count": null,
   "metadata": {},
   "outputs": [],
   "source": [
    "#mohan\n",
    "h, m = map(int, input().split())\n",
    "C = [input() for i in range(h)]\n",
    " \n",
    "hana = '#' * (m + 2)\n",
    "print(hana)\n",
    "for i in range(h):\n",
    "    print('#' + C[i] + '#')\n",
    "print(hana)"
   ]
  },
  {
   "cell_type": "code",
   "execution_count": null,
   "metadata": {},
   "outputs": [],
   "source": [
    "#mohan\n",
    "H, W = map(int, input().split())\n",
    "A = [[a for a in input()] for _ in range(H)]\n",
    "Sharps = [ ['#' for i in range(W+2)]for _ in range(H + 2)]\n",
    "for i in range(1,H+1):\n",
    "    for j in range(1,W+1):\n",
    "        Sharps[i][j]=A[i-1][j-1]\n",
    " \n",
    " \n",
    "for i in Sharps:\n",
    "    print('.'.join(i).replace('.',''))"
   ]
  },
  {
   "cell_type": "code",
   "execution_count": null,
   "metadata": {},
   "outputs": [],
   "source": [
    "#mohan\n",
    "H, W = map(int, input().split())\n",
    " \n",
    "sh = '#'\n",
    " \n",
    "print(sh * (W + 2))\n",
    " \n",
    "for i in range(H):\n",
    "    print(sh + input() + sh)\n",
    " \n",
    "print(sh * (W + 2))"
   ]
  }
 ],
 "metadata": {
  "kernelspec": {
   "display_name": "Python 3",
   "language": "python",
   "name": "python3"
  },
  "language_info": {
   "codemirror_mode": {
    "name": "ipython",
    "version": 3
   },
   "file_extension": ".py",
   "mimetype": "text/x-python",
   "name": "python",
   "nbconvert_exporter": "python",
   "pygments_lexer": "ipython3",
   "version": "3.7.1"
  }
 },
 "nbformat": 4,
 "nbformat_minor": 2
}
