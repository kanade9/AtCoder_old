{
 "cells": [
  {
   "cell_type": "code",
   "execution_count": 9,
   "metadata": {},
   "outputs": [
    {
     "name": "stdout",
     "output_type": "stream",
     "text": [
      "45 28 53\n",
      "630\n"
     ]
    }
   ],
   "source": [
    "A,B,C=map(int,input().split())\n",
    "ans=int(A*B/2)\n",
    "print(ans)"
   ]
  },
  {
   "cell_type": "code",
   "execution_count": 36,
   "metadata": {},
   "outputs": [
    {
     "name": "stdout",
     "output_type": "stream",
     "text": [
      "54\n",
      "114\n"
     ]
    }
   ],
   "source": [
    "s=int(input())\n",
    "k=[]\n",
    "k.append(s)\n",
    "cnt=0\n",
    "while(True):\n",
    "    cnt+=1\n",
    "    if k.count(s)==2:\n",
    "        print(cnt)\n",
    "        break\n",
    "        \n",
    "    if s%2==0:\n",
    "        s=int(s/2)\n",
    "        k.append(s)\n",
    "    else:\n",
    "        s=s*3+1\n",
    "        k.append(s)"
   ]
  },
  {
   "cell_type": "code",
   "execution_count": null,
   "metadata": {},
   "outputs": [],
   "source": [
    "print(int(2/2))\n"
   ]
  },
  {
   "cell_type": "code",
   "execution_count": 37,
   "metadata": {},
   "outputs": [
    {
     "name": "stdout",
     "output_type": "stream",
     "text": [
      "8\n",
      "1 2 3 4 5\n",
      "[1, 2, 3, 4, 5]\n"
     ]
    }
   ],
   "source": [
    "N=int(input())\n",
    "x=[int(i) for i in input().split()]\n",
    "print(x)"
   ]
  },
  {
   "cell_type": "code",
   "execution_count": 3,
   "metadata": {},
   "outputs": [
    {
     "name": "stdout",
     "output_type": "stream",
     "text": [
      "8\n",
      "4 23 75 0 23 96 50 100\n",
      "221\n"
     ]
    }
   ],
   "source": [
    "N=int(input())\n",
    "x=[int(i) for i in input().split()]\n",
    "x.append(0)\n",
    "cnt=0\n",
    "while x.count(0)!=N+1:\n",
    "    for i in range(N):\n",
    "        if x[i+1]==0 and x[i]>0:\n",
    "            cnt+=1\n",
    "        if x[i]>0:\n",
    "            x[i]-=1\n",
    "print(cnt)\n",
    "        \n",
    "        \n",
    "        \n",
    "    "
   ]
  },
  {
   "cell_type": "code",
   "execution_count": null,
   "metadata": {},
   "outputs": [],
   "source": []
  }
 ],
 "metadata": {
  "kernelspec": {
   "display_name": "Python 3",
   "language": "python",
   "name": "python3"
  },
  "language_info": {
   "codemirror_mode": {
    "name": "ipython",
    "version": 3
   },
   "file_extension": ".py",
   "mimetype": "text/x-python",
   "name": "python",
   "nbconvert_exporter": "python",
   "pygments_lexer": "ipython3",
   "version": "3.7.0"
  }
 },
 "nbformat": 4,
 "nbformat_minor": 2
}
