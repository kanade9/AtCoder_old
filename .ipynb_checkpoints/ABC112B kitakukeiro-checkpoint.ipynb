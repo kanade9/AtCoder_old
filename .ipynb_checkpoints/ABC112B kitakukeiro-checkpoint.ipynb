{
 "cells": [
  {
   "cell_type": "code",
   "execution_count": 5,
   "metadata": {},
   "outputs": [
    {
     "name": "stdout",
     "output_type": "stream",
     "text": [
      "2 3\n",
      "1 2 3\n",
      "2 2 3\n",
      "[1, 2, 3]\n"
     ]
    }
   ],
   "source": [
    "N,M=list(map(int,input().split()))\n",
    "a=[]\n",
    "for i in range(N):\n",
    "    a.append(list(map(int,input().split())))\n",
    "print(a[0])"
   ]
  },
  {
   "cell_type": "code",
   "execution_count": 7,
   "metadata": {},
   "outputs": [
    {
     "name": "stdout",
     "output_type": "stream",
     "text": [
      "2 2\n",
      "2 3 4\n",
      "2 4 5\n",
      "3\n"
     ]
    }
   ],
   "source": [
    "N,M=list(map(int,input().split()))\n",
    "a=[]\n",
    "for i in range(N):\n",
    "    a.append(list(map(int,input().split())))\n",
    "print(a[0][1])"
   ]
  },
  {
   "cell_type": "code",
   "execution_count": 9,
   "metadata": {},
   "outputs": [
    {
     "name": "stdout",
     "output_type": "stream",
     "text": [
      "5 9\n",
      "25 8\n",
      "5 9\n",
      "4 10\n",
      "1000 1000\n",
      "6 1\n",
      "5\n"
     ]
    }
   ],
   "source": [
    "N,T=list(map(int,input().split()))\n",
    "a=[]\n",
    "cost=9999\n",
    "for i in range(N):\n",
    "    a.append(list(map(int,input().split())))\n",
    "    if a[i][0]<cost and a[i][1]<=T:\n",
    "        cost=a[i][0]\n",
    "if cost == 9999:\n",
    "    print(\"TLE\")\n",
    "else:\n",
    "    print(cost)"
   ]
  },
  {
   "cell_type": "code",
   "execution_count": null,
   "metadata": {},
   "outputs": [],
   "source": []
  },
  {
   "cell_type": "code",
   "execution_count": null,
   "metadata": {},
   "outputs": [],
   "source": []
  }
 ],
 "metadata": {
  "kernelspec": {
   "display_name": "Python 3",
   "language": "python",
   "name": "python3"
  },
  "language_info": {
   "codemirror_mode": {
    "name": "ipython",
    "version": 3
   },
   "file_extension": ".py",
   "mimetype": "text/x-python",
   "name": "python",
   "nbconvert_exporter": "python",
   "pygments_lexer": "ipython3",
   "version": "3.7.0"
  }
 },
 "nbformat": 4,
 "nbformat_minor": 2
}
