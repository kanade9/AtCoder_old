{
 "cells": [
  {
   "cell_type": "code",
   "execution_count": 8,
   "metadata": {},
   "outputs": [
    {
     "name": "stdout",
     "output_type": "stream",
     "text": [
      "4\n",
      "4320\n",
      "4320\n",
      "4320\n",
      "4320\n",
      "15120\n"
     ]
    }
   ],
   "source": [
    "N=int(input())\n",
    "a=[]\n",
    "for i in range(N):\n",
    "    a.append(int(input()))\n",
    "mn=max(a)\n",
    "listsum=sum(a)\n",
    "listsum=listsum-int(mn/2)\n",
    "print(listsum)\n",
    "    "
   ]
  },
  {
   "cell_type": "code",
   "execution_count": null,
   "metadata": {},
   "outputs": [],
   "source": []
  }
 ],
 "metadata": {
  "kernelspec": {
   "display_name": "Python 3",
   "language": "python",
   "name": "python3"
  },
  "language_info": {
   "codemirror_mode": {
    "name": "ipython",
    "version": 3
   },
   "file_extension": ".py",
   "mimetype": "text/x-python",
   "name": "python",
   "nbconvert_exporter": "python",
   "pygments_lexer": "ipython3",
   "version": "3.7.0"
  }
 },
 "nbformat": 4,
 "nbformat_minor": 2
}
