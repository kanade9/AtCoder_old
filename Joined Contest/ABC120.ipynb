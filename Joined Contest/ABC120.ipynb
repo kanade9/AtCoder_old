{
 "cells": [
  {
   "cell_type": "code",
   "execution_count": 5,
   "metadata": {},
   "outputs": [
    {
     "name": "stdout",
     "output_type": "stream",
     "text": [
      "100 1 10\n",
      "0\n"
     ]
    }
   ],
   "source": [
    "#A\n",
    "a,b,c=map(int,input().split())\n",
    "print(c if b>=a*c else b//a)"
   ]
  },
  {
   "cell_type": "code",
   "execution_count": 11,
   "metadata": {},
   "outputs": [
    {
     "name": "stdout",
     "output_type": "stream",
     "text": [
      "1 1 1\n",
      "1\n"
     ]
    }
   ],
   "source": [
    "#B\n",
    "a,b,k=map(int,input().split())\n",
    "num=[]\n",
    "for i in range(1,max(a,b)+1):\n",
    "    if a%i==0 and b%i==0:\n",
    "        num.append(i)\n",
    "num.sort(reverse=True)\n",
    "print(num[k-1])"
   ]
  },
  {
   "cell_type": "code",
   "execution_count": 29,
   "metadata": {
    "scrolled": true
   },
   "outputs": [
    {
     "name": "stdout",
     "output_type": "stream",
     "text": [
      "0\n",
      "0\n"
     ]
    }
   ],
   "source": [
    "#C\n",
    "import copy\n",
    "S=input()\n",
    "sx=list(str(S))\n",
    "s=list(map(int,sx))\n",
    "#print(s)\n",
    "cnt=0\n",
    "while(1):\n",
    "    t=copy.deepcopy(s) \n",
    "    for i in range(len(s)-1):\n",
    "        if s[i]+s[i+1]==1:\n",
    "            s.pop(i+1)\n",
    "            s.pop(i)\n",
    "            cnt+=2\n",
    "            break\n",
    "    if s==t:\n",
    "        break\n",
    "print(cnt)"
   ]
  },
  {
   "cell_type": "code",
   "execution_count": 33,
   "metadata": {},
   "outputs": [
    {
     "name": "stdout",
     "output_type": "stream",
     "text": [
      "0\n",
      "0\n"
     ]
    }
   ],
   "source": [
    "s=input()\n",
    "a=s.count('0')\n",
    "b=s.count('1')\n",
    "print(min(a,b)*2)"
   ]
  },
  {
   "cell_type": "code",
   "execution_count": null,
   "metadata": {},
   "outputs": [],
   "source": []
  }
 ],
 "metadata": {
  "kernelspec": {
   "display_name": "Python 3",
   "language": "python",
   "name": "python3"
  },
  "language_info": {
   "codemirror_mode": {
    "name": "ipython",
    "version": 3
   },
   "file_extension": ".py",
   "mimetype": "text/x-python",
   "name": "python",
   "nbconvert_exporter": "python",
   "pygments_lexer": "ipython3",
   "version": "3.7.1"
  }
 },
 "nbformat": 4,
 "nbformat_minor": 2
}
