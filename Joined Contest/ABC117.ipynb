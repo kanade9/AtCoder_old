{
 "cells": [
  {
   "cell_type": "code",
   "execution_count": 7,
   "metadata": {},
   "outputs": [
    {
     "name": "stdout",
     "output_type": "stream",
     "text": [
      "1 100\n",
      "0.01\n"
     ]
    }
   ],
   "source": [
    "#A\n",
    "t,x=map(float,input().split())\n",
    "print(t/x)"
   ]
  },
  {
   "cell_type": "code",
   "execution_count": 14,
   "metadata": {},
   "outputs": [
    {
     "name": "stdout",
     "output_type": "stream",
     "text": [
      "10\n",
      "1 8 10 5 8 12 34 100 11 3\n",
      "No\n"
     ]
    }
   ],
   "source": [
    "#B\n",
    "n=int(input())\n",
    "x=[int(i) for i in input().split()]\n",
    "x.sort()\n",
    "sum=0\n",
    "for i in range(n-1):\n",
    "    sum+=x[i]\n",
    "print(\"Yes\"if x[-1]<sum else \"No\" )"
   ]
  },
  {
   "cell_type": "code",
   "execution_count": 29,
   "metadata": {},
   "outputs": [
    {
     "name": "stdout",
     "output_type": "stream",
     "text": [
      "2 5\n",
      "10 12 1 2 14\n",
      "5\n"
     ]
    }
   ],
   "source": [
    "#C\n",
    "n,m=map(int,input().split())\n",
    "x=[int(i) for i in input().split()]\n",
    "x.sort()\n",
    "a=[]\n",
    "sum=0\n",
    "for i in range(m-1):\n",
    "    a.append(abs(x[i+1]-x[i]))\n",
    "a.sort()\n",
    "plus=len(a)-n+1\n",
    "for i in range(plus):\n",
    "    sum+=a[i]\n",
    "print(sum)\n",
    "    \n",
    "    "
   ]
  },
  {
   "cell_type": "code",
   "execution_count": 31,
   "metadata": {},
   "outputs": [
    {
     "name": "stdout",
     "output_type": "stream",
     "text": [
      "3\n",
      "11\n"
     ]
    }
   ],
   "source": [
    "a=int(input())\n",
    "a2=format(a,'b')\n",
    "print(a2)"
   ]
  },
  {
   "cell_type": "code",
   "execution_count": 33,
   "metadata": {},
   "outputs": [
    {
     "name": "stdout",
     "output_type": "stream",
     "text": [
      "3 7\n",
      "1 6 3\n",
      "['1', '110', '11']\n"
     ]
    }
   ],
   "source": [
    "a,b=map(int,input().split())\n",
    "x=[int(i) for i in input().split()]\n",
    "form2=[]\n",
    "for i in range(a):\n",
    "    form2.append(format(x[i],'b'))\n",
    "print(form2)"
   ]
  },
  {
   "cell_type": "code",
   "execution_count": 65,
   "metadata": {},
   "outputs": [
    {
     "name": "stdout",
     "output_type": "stream",
     "text": [
      "1 0\n",
      "10000000000\n",
      "10000000000\n"
     ]
    }
   ],
   "source": [
    "#D\n",
    "a,b=map(int,input().split())\n",
    "x=[int(i) for i in input().split()]\n",
    "max=0\n",
    "stock=[]\n",
    "if b==0:\n",
    "    b=1\n",
    "    \n",
    "for i in range(b):\n",
    "    sum=0\n",
    "    for j in range(a):\n",
    "        sum+=(x[j]^i)\n",
    "    if max<sum:\n",
    "        max=sum\n",
    "print(max)\n",
    "        "
   ]
  },
  {
   "cell_type": "code",
   "execution_count": null,
   "metadata": {},
   "outputs": [],
   "source": [
    "#D mohan\n",
    "n, k = map(int, input().split())\n",
    "a = list(map(int, input().split()))\n",
    " \n",
    "max_digit = 40\n",
    " \n",
    "# xのn桁目が1かどうか\n",
    "def JudgeDigitN(x, n):\n",
    "    return x >> n & 1 == 1 \n",
    "    \n",
    "c1 = [0] * max_digit\n",
    "for i in a:\n",
    "    for j in range(max_digit):\n",
    "        if JudgeDigitN(i,j):\n",
    "            c1[j] += 1\n",
    "b = []\n",
    " \n",
    "for i in range(max_digit-1,-1,-1):\n",
    "    if not JudgeDigitN(k,i):\n",
    "        continue\n",
    "    tmp = 0\n",
    "    for j in range(max_digit-1,i,-1):\n",
    "        if JudgeDigitN(k,j):\n",
    "            tmp += 2**j * (n-c1[j])\n",
    "        else:\n",
    "            tmp += 2**j * c1[j]\n",
    "    tmp += 2**i * c1[i]\n",
    "    for j in range(i-1, -1, -1):\n",
    "        tmp += 2**j * max(c1[j], n-c1[j])\n",
    "    b.append(tmp)\n",
    "    \n",
    "tmp = 0    \n",
    "for i in range(max_digit):\n",
    "    if JudgeDigitN(k,i):\n",
    "        tmp += 2**i * (n-c1[i])\n",
    "    else:\n",
    "        tmp += 2**i * c1[i]\n",
    "b.append(tmp)\n",
    " \n",
    "print(max(b))"
   ]
  }
 ],
 "metadata": {
  "kernelspec": {
   "display_name": "Python 3",
   "language": "python",
   "name": "python3"
  },
  "language_info": {
   "codemirror_mode": {
    "name": "ipython",
    "version": 3
   },
   "file_extension": ".py",
   "mimetype": "text/x-python",
   "name": "python",
   "nbconvert_exporter": "python",
   "pygments_lexer": "ipython3",
   "version": "3.7.1"
  }
 },
 "nbformat": 4,
 "nbformat_minor": 2
}
