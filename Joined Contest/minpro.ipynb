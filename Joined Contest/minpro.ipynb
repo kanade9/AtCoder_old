{
 "cells": [
  {
   "cell_type": "code",
   "execution_count": 6,
   "metadata": {},
   "outputs": [
    {
     "name": "stdout",
     "output_type": "stream",
     "text": [
      "10 90\n",
      "NO\n"
     ]
    }
   ],
   "source": [
    "n,k=map(int,input().split())\n",
    "s=0\n",
    "if n%2!=0:\n",
    "    s=n//2+1\n",
    "else:\n",
    "    s=n/2\n",
    "print(\"YES\"if s>=k else\"NO\")"
   ]
  },
  {
   "cell_type": "code",
   "execution_count": 21,
   "metadata": {},
   "outputs": [
    {
     "name": "stdout",
     "output_type": "stream",
     "text": [
      "2 1\n",
      "3 2\n",
      "4 3\n",
      "YES\n"
     ]
    }
   ],
   "source": [
    "#B\n",
    "a = list()\n",
    "for i in range(3):\n",
    "    a.append(list(map(int, input().split())))\n",
    "cnt0=cnt1=0\n",
    "for i in range(2):\n",
    "    for j in range(2):\n",
    "        if a[0][0]==a[i+1][j]:\n",
    "            cnt0+=1\n",
    "        if a[0][1]==a[i+1][j]:\n",
    "            cnt1+=1\n",
    "if cnt0>=2 or cnt1>=2:\n",
    "    print(\"NO\")\n",
    "else:\n",
    "    print(\"YES\")\n",
    "        "
   ]
  },
  {
   "cell_type": "code",
   "execution_count": null,
   "metadata": {},
   "outputs": [
    {
     "name": "stdout",
     "output_type": "stream",
     "text": [
      "314159265 35897932 384626433\n"
     ]
    }
   ],
   "source": [
    "#c\n",
    "k,a,b=map(int,input().split())\n",
    "flag=False\n",
    "mouke=b-a\n",
    "if mouke>2:\n",
    "    flag=True\n",
    "cost=k\n",
    "cnt=1\n",
    "while cost>0:\n",
    "    if flag==True and cnt>=a and cost>=2:\n",
    "        cost-=2\n",
    "        cnt+=mouke\n",
    "    else:\n",
    "        cost-=1\n",
    "        cnt+=1\n",
    "print(cnt)\n",
    "        "
   ]
  },
  {
   "cell_type": "code",
   "execution_count": 12,
   "metadata": {},
   "outputs": [
    {
     "name": "stdout",
     "output_type": "stream",
     "text": [
      "314159265 35897932 384626433\n",
      "8\n",
      "3103987259\n"
     ]
    }
   ],
   "source": [
    "k,a,b=map(int,input().split())\n",
    "k+=1\n",
    "cnt=0\n",
    "changecnt=0\n",
    "if b>a+2:\n",
    "    changecnt=k//(a+2)\n",
    "print(changecnt)\n",
    "cnt=1+changecnt*b+k%(a+2)\n",
    "print(cnt)"
   ]
  },
  {
   "cell_type": "code",
   "execution_count": 61,
   "metadata": {},
   "outputs": [
    {
     "name": "stdout",
     "output_type": "stream",
     "text": [
      "4 2 6\n",
      "7\n"
     ]
    }
   ],
   "source": [
    "k,a,b=map(int,input().split())\n",
    "mouke=b-a\n",
    "j=0\n",
    "if mouke>1:\n",
    "    j=(k+1-a)//2\n",
    "    cnt=j*(b-a)+a+(k-2*j-a)+1\n",
    "else:\n",
    "    cnt=k+1\n",
    "print(cnt)"
   ]
  },
  {
   "cell_type": "code",
   "execution_count": null,
   "metadata": {},
   "outputs": [],
   "source": []
  }
 ],
 "metadata": {
  "kernelspec": {
   "display_name": "Python 3",
   "language": "python",
   "name": "python3"
  },
  "language_info": {
   "codemirror_mode": {
    "name": "ipython",
    "version": 3
   },
   "file_extension": ".py",
   "mimetype": "text/x-python",
   "name": "python",
   "nbconvert_exporter": "python",
   "pygments_lexer": "ipython3",
   "version": "3.7.1"
  }
 },
 "nbformat": 4,
 "nbformat_minor": 2
}
