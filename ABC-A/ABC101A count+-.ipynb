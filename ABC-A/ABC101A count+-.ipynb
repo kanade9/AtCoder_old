{
 "cells": [
  {
   "cell_type": "code",
   "execution_count": 23,
   "metadata": {},
   "outputs": [
    {
     "name": "stdout",
     "output_type": "stream",
     "text": [
      "----\n",
      "-4\n"
     ]
    }
   ],
   "source": [
    "S=input()\n",
    "cnt=0\n",
    "for i in range(4):\n",
    "    if (S[i])=='+':\n",
    "        cnt+=1\n",
    "    else:\n",
    "        cnt-=1\n",
    "print(cnt)"
   ]
  },
  {
   "cell_type": "code",
   "execution_count": 7,
   "metadata": {},
   "outputs": [
    {
     "name": "stdout",
     "output_type": "stream",
     "text": [
      "2 3 4\n",
      "['2', '3', '4']\n",
      "['2', '3', '4']\n",
      "['2', '3', '4']\n"
     ]
    }
   ],
   "source": [
    "S=input().split()\n",
    "for i in range(3):\n",
    "    print(S)"
   ]
  },
  {
   "cell_type": "code",
   "execution_count": 16,
   "metadata": {},
   "outputs": [
    {
     "name": "stdout",
     "output_type": "stream",
     "text": [
      "++-+\n",
      "+\n",
      "+\n",
      "-\n",
      "+\n"
     ]
    }
   ],
   "source": [
    "#模範解答\n",
    "N = input()\n",
    "print(N.count('+') - N.count('-'))"
   ]
  },
  {
   "cell_type": "code",
   "execution_count": null,
   "metadata": {},
   "outputs": [],
   "source": []
  }
 ],
 "metadata": {
  "kernelspec": {
   "display_name": "Python 3",
   "language": "python",
   "name": "python3"
  }
 },
 "nbformat": 4,
 "nbformat_minor": 2
}
