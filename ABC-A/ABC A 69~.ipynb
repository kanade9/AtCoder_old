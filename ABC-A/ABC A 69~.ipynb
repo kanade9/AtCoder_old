{
 "cells": [
  {
   "cell_type": "code",
   "execution_count": 3,
   "metadata": {},
   "outputs": [
    {
     "name": "stdout",
     "output_type": "stream",
     "text": [
      "2 2\n",
      "1\n"
     ]
    }
   ],
   "source": [
    "#69A\n",
    "a,b=map(int,input().split())\n",
    "print((a-1)*(b-1))"
   ]
  },
  {
   "cell_type": "code",
   "execution_count": 8,
   "metadata": {},
   "outputs": [
    {
     "name": "stdout",
     "output_type": "stream",
     "text": [
      "444\n",
      "ABC444\n"
     ]
    }
   ],
   "source": [
    "#68A\n",
    "n=input()\n",
    "print(\"ABC\"+n)"
   ]
  },
  {
   "cell_type": "code",
   "execution_count": 12,
   "metadata": {},
   "outputs": [
    {
     "name": "stdout",
     "output_type": "stream",
     "text": [
      "4 5\n",
      "Possible\n"
     ]
    }
   ],
   "source": [
    "#67A\n",
    "A,B=map(int,input().split())\n",
    "print(\"Possible\"if A%3==0 or B%3==0 or (A+B)%3==0 else \"Impossible\")"
   ]
  },
  {
   "cell_type": "code",
   "execution_count": 13,
   "metadata": {},
   "outputs": [
    {
     "name": "stdout",
     "output_type": "stream",
     "text": [
      "2 2\n",
      "Impossible\n"
     ]
    }
   ],
   "source": [
    "#67Amohan\n",
    "a,b=map(int,input().split())\n",
    "print(\"Impossible\" if a*b*(a+b)%3 else \"Possible\")"
   ]
  },
  {
   "cell_type": "code",
   "execution_count": 24,
   "metadata": {},
   "outputs": [
    {
     "name": "stdout",
     "output_type": "stream",
     "text": [
      "6\n",
      "N\n"
     ]
    }
   ],
   "source": [
    "n=int(input())\n",
    "print('Y'if n%3 else 'N' )\n",
    "# %が0になるとFalseと同じ挙動をする。\n"
   ]
  },
  {
   "cell_type": "code",
   "execution_count": 33,
   "metadata": {},
   "outputs": [
    {
     "name": "stdout",
     "output_type": "stream",
     "text": [
      "700 600 780\n",
      "1300\n"
     ]
    }
   ],
   "source": [
    "#66A\n",
    "x=[int(i) for i in input().split()]\n",
    "sum=0\n",
    "for i in range(len(x)):\n",
    "    sum+=x[i]\n",
    "print(sum-max(x))"
   ]
  },
  {
   "cell_type": "code",
   "execution_count": null,
   "metadata": {},
   "outputs": [],
   "source": [
    "#66A mohan\n",
    "a,b,c = map(int,input().split())\n",
    " \n",
    "print(a+b+c-max(a,b,c))\n",
    "#max(a,b,c,d)などでこの中から最大値を選ぶことができる。"
   ]
  },
  {
   "cell_type": "code",
   "execution_count": 37,
   "metadata": {},
   "outputs": [
    {
     "name": "stdout",
     "output_type": "stream",
     "text": [
      "3 7 12\n",
      "dangerous\n"
     ]
    }
   ],
   "source": [
    "#65A\n",
    "x,a,b=map(int,input().split())\n",
    "if b<=a:\n",
    "    print(\"delicious\")\n",
    "elif b-a<=x:\n",
    "    print(\"safe\")\n",
    "else:\n",
    "    print(\"dangerous\")"
   ]
  },
  {
   "cell_type": "code",
   "execution_count": null,
   "metadata": {},
   "outputs": [],
   "source": [
    "#65A mo"
   ]
  }
 ],
 "metadata": {
  "kernelspec": {
   "display_name": "Python 3",
   "language": "python",
   "name": "python3"
  },
  "language_info": {
   "codemirror_mode": {
    "name": "ipython",
    "version": 3
   },
   "file_extension": ".py",
   "mimetype": "text/x-python",
   "name": "python",
   "nbconvert_exporter": "python",
   "pygments_lexer": "ipython3",
   "version": "3.7.1"
  }
 },
 "nbformat": 4,
 "nbformat_minor": 2
}
