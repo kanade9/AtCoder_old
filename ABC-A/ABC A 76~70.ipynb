{
 "cells": [
  {
   "cell_type": "code",
   "execution_count": 3,
   "metadata": {},
   "outputs": [
    {
     "name": "stdout",
     "output_type": "stream",
     "text": [
      "4500\n",
      "0\n",
      "-4500\n"
     ]
    }
   ],
   "source": [
    "#76A\n",
    "R=int(input())\n",
    "G=int(input())\n",
    "print(G*2-R)"
   ]
  },
  {
   "cell_type": "code",
   "execution_count": 7,
   "metadata": {},
   "outputs": [
    {
     "name": "stdout",
     "output_type": "stream",
     "text": [
      "-100 100 100\n",
      "-100\n"
     ]
    }
   ],
   "source": [
    "#75A\n",
    "A,B,C=map(int,input().split())\n",
    "if A==B:\n",
    "    print(C)\n",
    "elif A==C:\n",
    "    print(B)\n",
    "else:\n",
    "    print(A)"
   ]
  },
  {
   "cell_type": "code",
   "execution_count": 16,
   "metadata": {},
   "outputs": [
    {
     "name": "stdout",
     "output_type": "stream",
     "text": [
      "19\n",
      "100\n",
      "261\n"
     ]
    }
   ],
   "source": [
    "#74A\n",
    "a=int(input())\n",
    "print(a*a-int(input()))\n"
   ]
  },
  {
   "cell_type": "code",
   "execution_count": 19,
   "metadata": {},
   "outputs": [
    {
     "name": "stdout",
     "output_type": "stream",
     "text": [
      "91\n",
      "Yes\n"
     ]
    }
   ],
   "source": [
    "#73A\n",
    "a=input()\n",
    "print('Yes'if \"9\"in a else 'No')"
   ]
  },
  {
   "cell_type": "code",
   "execution_count": null,
   "metadata": {},
   "outputs": [],
   "source": [
    "#72A\n",
    "A,B=map(int,input())\n",
    "print(A-B if A-B>0 else 0)\n"
   ]
  },
  {
   "cell_type": "code",
   "execution_count": 29,
   "metadata": {},
   "outputs": [
    {
     "name": "stdout",
     "output_type": "stream",
     "text": [
      "5 2 7\n",
      "B\n"
     ]
    }
   ],
   "source": [
    "#71A\n",
    "x,a,b=map(int,input().split())\n",
    "print(\"A\"if abs(x-a)<abs(x-b)else \"B\")"
   ]
  },
  {
   "cell_type": "code",
   "execution_count": 3,
   "metadata": {},
   "outputs": [
    {
     "name": "stdout",
     "output_type": "stream",
     "text": [
      "999\n",
      "Yes\n"
     ]
    }
   ],
   "source": [
    "#70A\n",
    "s=input()\n",
    "print(\"Yes\"if s[0]==s[-1]else \"No\")"
   ]
  },
  {
   "cell_type": "code",
   "execution_count": null,
   "metadata": {},
   "outputs": [],
   "source": []
  }
 ],
 "metadata": {
  "kernelspec": {
   "display_name": "Python 3",
   "language": "python",
   "name": "python3"
  },
  "language_info": {
   "codemirror_mode": {
    "name": "ipython",
    "version": 3
   },
   "file_extension": ".py",
   "mimetype": "text/x-python",
   "name": "python",
   "nbconvert_exporter": "python",
   "pygments_lexer": "ipython3",
   "version": "3.7.1"
  }
 },
 "nbformat": 4,
 "nbformat_minor": 2
}
