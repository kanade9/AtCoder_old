{
 "cells": [
  {
   "cell_type": "code",
   "execution_count": 4,
   "metadata": {},
   "outputs": [
    {
     "name": "stdout",
     "output_type": "stream",
     "text": [
      "2 3 4\n",
      "NO\n"
     ]
    }
   ],
   "source": [
    "#64\n",
    "r,g,b=map(int,input().split())\n",
    "print(\"YES\"if (r*100+g*10+b)%4==0 else \"NO\")"
   ]
  },
  {
   "cell_type": "code",
   "execution_count": 8,
   "metadata": {},
   "outputs": [
    {
     "name": "stdout",
     "output_type": "stream",
     "text": [
      "6 4\n",
      "error\n"
     ]
    }
   ],
   "source": [
    "#63\n",
    "a,b=map(int,input().split())\n",
    "print(\"error\"if a+b>=10 else a+b)"
   ]
  },
  {
   "cell_type": "code",
   "execution_count": 10,
   "metadata": {},
   "outputs": [
    {
     "name": "stdout",
     "output_type": "stream",
     "text": [
      "2 4\n",
      "No\n"
     ]
    }
   ],
   "source": [
    "#62\n",
    "a=[1,3,5,7,8,10,12]\n",
    "b=[4,6,9,11]\n",
    "c=[2]\n",
    "x,y=map(int,input().split())\n",
    "if((x in a and y in a)or(x in b and y in b)or(x in c and y in c)):\n",
    "    print(\"Yes\")\n",
    "else:\n",
    "    print(\"No\")"
   ]
  },
  {
   "cell_type": "code",
   "execution_count": 13,
   "metadata": {},
   "outputs": [
    {
     "name": "stdout",
     "output_type": "stream",
     "text": [
      "2 2 2\n",
      "Yes\n"
     ]
    }
   ],
   "source": [
    "#61\n",
    "a,b,c=map(int,input().split())\n",
    "print(\"Yes\"if a<=c and c<=b else \"No\")"
   ]
  },
  {
   "cell_type": "code",
   "execution_count": 18,
   "metadata": {},
   "outputs": [
    {
     "name": "stdout",
     "output_type": "stream",
     "text": [
      "a a a\n",
      "YES\n"
     ]
    }
   ],
   "source": [
    "#60\n",
    "A,B,C=map(str,input().split())\n",
    "if A[-1]==B[0]and B[-1]==C[0]:\n",
    "    print(\"YES\")\n",
    "else:\n",
    "    print(\"NO\")"
   ]
  },
  {
   "cell_type": "code",
   "execution_count": null,
   "metadata": {},
   "outputs": [],
   "source": []
  },
  {
   "cell_type": "code",
   "execution_count": null,
   "metadata": {},
   "outputs": [],
   "source": []
  }
 ],
 "metadata": {
  "kernelspec": {
   "display_name": "Python 3",
   "language": "python",
   "name": "python3"
  },
  "language_info": {
   "codemirror_mode": {
    "name": "ipython",
    "version": 3
   },
   "file_extension": ".py",
   "mimetype": "text/x-python",
   "name": "python",
   "nbconvert_exporter": "python",
   "pygments_lexer": "ipython3",
   "version": "3.7.1"
  }
 },
 "nbformat": 4,
 "nbformat_minor": 2
}
