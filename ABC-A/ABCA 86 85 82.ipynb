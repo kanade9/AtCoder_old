{
 "cells": [
  {
   "cell_type": "code",
   "execution_count": 5,
   "metadata": {},
   "outputs": [
    {
     "name": "stdout",
     "output_type": "stream",
     "text": [
      "3 4\n",
      "Even\n"
     ]
    }
   ],
   "source": [
    "#86A\n",
    "a,b=map(int,input().split())\n",
    "print(\"Even\" if int(a*b%2)==0 else \"Odd\")"
   ]
  },
  {
   "cell_type": "code",
   "execution_count": 13,
   "metadata": {},
   "outputs": [
    {
     "name": "stdout",
     "output_type": "stream",
     "text": [
      "2017/01/31\n",
      "2018/01/31"
     ]
    }
   ],
   "source": [
    "#85A\n",
    "S=input()\n",
    "if S[3]=='7':\n",
    "    print(\"201\",end='')\n",
    "    print(\"8\",end='')\n",
    "    for i in range(4,10):\n",
    "        print(S[i],end='')\n",
    "else:\n",
    "    print(S)"
   ]
  },
  {
   "cell_type": "code",
   "execution_count": null,
   "metadata": {},
   "outputs": [],
   "source": [
    "#85 mohan\n",
    "S=input().split('/')\n",
    "print('2018/'+S[1]+'/'+S[2])"
   ]
  },
  {
   "cell_type": "code",
   "execution_count": 20,
   "metadata": {},
   "outputs": [
    {
     "name": "stdout",
     "output_type": "stream",
     "text": [
      "21\n",
      "27\n"
     ]
    }
   ],
   "source": [
    "#84\n",
    "print(48-int(input()))"
   ]
  },
  {
   "cell_type": "code",
   "execution_count": 24,
   "metadata": {},
   "outputs": [
    {
     "name": "stdout",
     "output_type": "stream",
     "text": [
      "5 5\n",
      "5\n"
     ]
    }
   ],
   "source": [
    "#82\n",
    "a,b=map(int,input().split())\n",
    "c=a+b\n",
    "print(int(c/2) if (c)%2==0 else int(c/2)+1)"
   ]
  },
  {
   "cell_type": "code",
   "execution_count": null,
   "metadata": {},
   "outputs": [],
   "source": [
    "#82 math imported\n",
    "import math\n",
    "a, b = map(int, input().split())\n",
    "print(math.ceil((a + b)/2))"
   ]
  },
  {
   "cell_type": "code",
   "execution_count": 29,
   "metadata": {},
   "outputs": [
    {
     "name": "stdout",
     "output_type": "stream",
     "text": [
      "111\n",
      "3\n"
     ]
    }
   ],
   "source": [
    "#81\n",
    "print(input().count(\"1\"))"
   ]
  },
  {
   "cell_type": "code",
   "execution_count": 38,
   "metadata": {},
   "outputs": [
    {
     "name": "stdout",
     "output_type": "stream",
     "text": [
      "eye\n",
      "eel\n",
      "NO\n"
     ]
    }
   ],
   "source": [
    "#77\n",
    "ok=True\n",
    "b = []\n",
    "for i in range(2):\n",
    "    b.append(input())\n",
    "for i in range(3):\n",
    "    if b[0][i]!=b[1][2-i]:\n",
    "        ok=False\n",
    "print(\"YES\" if ok else \"NO\")"
   ]
  },
  {
   "cell_type": "code",
   "execution_count": null,
   "metadata": {},
   "outputs": [],
   "source": [
    "#77 mohan\n",
    "print('YES' if input() == input()[::-1] else 'NO')\n",
    "#::-1で最初から最後まで"
   ]
  },
  {
   "cell_type": "code",
   "execution_count": null,
   "metadata": {},
   "outputs": [],
   "source": [
    "S=input()\n",
    "T=input()\n",
    "for i in S:\n",
    "    \n",
    "print(\"Yes\" if else \"No\")"
   ]
  }
 ],
 "metadata": {
  "kernelspec": {
   "display_name": "Python 3",
   "language": "python",
   "name": "python3"
  },
  "language_info": {
   "codemirror_mode": {
    "name": "ipython",
    "version": 3
   },
   "file_extension": ".py",
   "mimetype": "text/x-python",
   "name": "python",
   "nbconvert_exporter": "python",
   "pygments_lexer": "ipython3",
   "version": "3.7.1"
  }
 },
 "nbformat": 4,
 "nbformat_minor": 2
}
