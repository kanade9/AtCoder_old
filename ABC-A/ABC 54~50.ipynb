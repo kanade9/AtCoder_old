{
 "cells": [
  {
   "cell_type": "code",
   "execution_count": 17,
   "metadata": {},
   "outputs": [
    {
     "name": "stdout",
     "output_type": "stream",
     "text": [
      "8 6\n",
      "Alice\n"
     ]
    }
   ],
   "source": [
    "#54\n",
    "a,b=map(int,input().split())\n",
    "J=0\n",
    "if (a==1 and b!=1):\n",
    "    J=1\n",
    "elif (b==1 and a!=1):\n",
    "    J=2\n",
    "elif a<b:\n",
    "    J=2\n",
    "elif a>b:\n",
    "    J=1\n",
    "print(\"Alice\" if J==1 else \"Bob\" if J==2 else \"Draw\")"
   ]
  },
  {
   "cell_type": "code",
   "execution_count": null,
   "metadata": {},
   "outputs": [],
   "source": [
    "#mohan\n",
    "A,B = map(int,input().split())\n",
    "A = (A+12)%14\n",
    "B = (B+12)%14\n",
    "if A > B:\n",
    "    print(\"Alice\")\n",
    "elif A < B:\n",
    "    print(\"Bob\")\n",
    "else:\n",
    "    print(\"Draw\")\n",
    "#これよりも簡単な方法として1を14として扱う方法もある"
   ]
  },
  {
   "cell_type": "code",
   "execution_count": 21,
   "metadata": {},
   "outputs": [
    {
     "name": "stdout",
     "output_type": "stream",
     "text": [
      "1000\n",
      "ABC\n"
     ]
    }
   ],
   "source": [
    "#53\n",
    "print(\"ABC\"if int(input())<1200 else\"ARC\")"
   ]
  },
  {
   "cell_type": "code",
   "execution_count": 23,
   "metadata": {},
   "outputs": [
    {
     "name": "stdout",
     "output_type": "stream",
     "text": [
      "100 600 200 300\n",
      "60000\n"
     ]
    }
   ],
   "source": [
    "#52\n",
    "a,b,c,d=map(int,input().split())\n",
    "print(a*b if a*b>c*d else c*d)"
   ]
  },
  {
   "cell_type": "code",
   "execution_count": 26,
   "metadata": {},
   "outputs": [
    {
     "name": "stdout",
     "output_type": "stream",
     "text": [
      "happy,newyear,enjoy\n",
      "happy newyear enjoy "
     ]
    }
   ],
   "source": [
    "#51\n",
    "s=input().split(\",\")\n",
    "for i in range(len(s)):\n",
    "    print(s[i],end=' ')"
   ]
  },
  {
   "cell_type": "code",
   "execution_count": null,
   "metadata": {},
   "outputs": [],
   "source": [
    "#51 mohan\n",
    "a,b,c = map(str,input().split(\",\"))\n",
    "print(a,b,c)"
   ]
  },
  {
   "cell_type": "code",
   "execution_count": 31,
   "metadata": {},
   "outputs": [
    {
     "name": "stdout",
     "output_type": "stream",
     "text": [
      "5 - 7\n",
      "-2\n"
     ]
    }
   ],
   "source": [
    "#50\n",
    "a,op,b=map(str,input().split())\n",
    "a=int(a)\n",
    "b=int(b)\n",
    "print(a+b if op==\"+\" else a-b)"
   ]
  },
  {
   "cell_type": "code",
   "execution_count": null,
   "metadata": {},
   "outputs": [],
   "source": [
    "#50 mohan\n",
    "print(eval(input()))"
   ]
  },
  {
   "cell_type": "code",
   "execution_count": null,
   "metadata": {},
   "outputs": [],
   "source": []
  }
 ],
 "metadata": {
  "kernelspec": {
   "display_name": "Python 3",
   "language": "python",
   "name": "python3"
  },
  "language_info": {
   "codemirror_mode": {
    "name": "ipython",
    "version": 3
   },
   "file_extension": ".py",
   "mimetype": "text/x-python",
   "name": "python",
   "nbconvert_exporter": "python",
   "pygments_lexer": "ipython3",
   "version": "3.7.1"
  }
 },
 "nbformat": 4,
 "nbformat_minor": 2
}
