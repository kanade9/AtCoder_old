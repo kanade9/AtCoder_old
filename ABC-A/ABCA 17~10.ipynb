{
 "cells": [
  {
   "cell_type": "code",
   "execution_count": 6,
   "metadata": {},
   "outputs": [
    {
     "name": "stdout",
     "output_type": "stream",
     "text": [
      "D\n",
      "4\n"
     ]
    }
   ],
   "source": [
    "#13A\n",
    "print(ord(input())-64)"
   ]
  },
  {
   "cell_type": "code",
   "execution_count": 8,
   "metadata": {},
   "outputs": [
    {
     "name": "stdout",
     "output_type": "stream",
     "text": [
      "990 10\n",
      "990 10\n",
      "990 10\n",
      "2970\n"
     ]
    }
   ],
   "source": [
    "#17A\n",
    "a = []\n",
    "for i in range(3):\n",
    "    a.append(list(map(int, input().split())))\n",
    "sum=0\n",
    "\n",
    "for i in range(3):\n",
    "    sum+=a[i][0]*(a[i][1]/10)\n",
    "print(int(sum))"
   ]
  },
  {
   "cell_type": "code",
   "execution_count": null,
   "metadata": {},
   "outputs": [],
   "source": [
    "#sankou\n",
    "sum = 0\n",
    "for i in range(3):\n",
    "    s, e = map(int, input().split())\n",
    "    sum += s*e/10\n",
    "print(int(sum))\n",
    "#リストに入れる必要もなし"
   ]
  },
  {
   "cell_type": "code",
   "execution_count": 10,
   "metadata": {},
   "outputs": [
    {
     "name": "stdout",
     "output_type": "stream",
     "text": [
      "2 29\n",
      "NO\n"
     ]
    }
   ],
   "source": [
    "#16A\n",
    "a,b=map(int,input().split())\n",
    "print('YES'if a%b==0 else \"NO\")"
   ]
  },
  {
   "cell_type": "code",
   "execution_count": 17,
   "metadata": {},
   "outputs": [
    {
     "name": "stdout",
     "output_type": "stream",
     "text": [
      "skjdsj\n",
      "sdksjdksjkd\n",
      "sdksjdksjkd\n"
     ]
    }
   ],
   "source": [
    "#15A\n",
    "a=input()\n",
    "b=input()\n",
    "print(b if len(b)>=len(a) else a)"
   ]
  },
  {
   "cell_type": "code",
   "execution_count": 23,
   "metadata": {},
   "outputs": [
    {
     "name": "stdout",
     "output_type": "stream",
     "text": [
      "2 3\n",
      "3 2\n"
     ]
    }
   ],
   "source": [
    "#12A\n",
    "a,b=map(int,input().split())\n",
    "print('{} {}'.format(b,a))"
   ]
  },
  {
   "cell_type": "code",
   "execution_count": 24,
   "metadata": {},
   "outputs": [
    {
     "name": "stdout",
     "output_type": "stream",
     "text": [
      "2\n",
      "3\n"
     ]
    }
   ],
   "source": [
    "#11A\n",
    "n=int(input())\n",
    "if n==12:\n",
    "    print(1)\n",
    "else:\n",
    "    print(n+1)"
   ]
  },
  {
   "cell_type": "code",
   "execution_count": 25,
   "metadata": {},
   "outputs": [
    {
     "name": "stdout",
     "output_type": "stream",
     "text": [
      "aa\n",
      "aapp\n"
     ]
    }
   ],
   "source": [
    "#10A\n",
    "print(input()+'pp')"
   ]
  },
  {
   "cell_type": "code",
   "execution_count": 38,
   "metadata": {},
   "outputs": [
    {
     "name": "stdout",
     "output_type": "stream",
     "text": [
      "1\n",
      "100\n",
      "1\n"
     ]
    }
   ],
   "source": [
    "#14A\n",
    "a=int(input())\n",
    "b=int(input())\n",
    "print('0'if a%b==0 else a-(b%a))"
   ]
  },
  {
   "cell_type": "code",
   "execution_count": null,
   "metadata": {},
   "outputs": [],
   "source": [
    "4\n"
   ]
  }
 ],
 "metadata": {
  "kernelspec": {
   "display_name": "Python 3",
   "language": "python",
   "name": "python3"
  },
  "language_info": {
   "codemirror_mode": {
    "name": "ipython",
    "version": 3
   },
   "file_extension": ".py",
   "mimetype": "text/x-python",
   "name": "python",
   "nbconvert_exporter": "python",
   "pygments_lexer": "ipython3",
   "version": "3.7.1"
  }
 },
 "nbformat": 4,
 "nbformat_minor": 2
}
