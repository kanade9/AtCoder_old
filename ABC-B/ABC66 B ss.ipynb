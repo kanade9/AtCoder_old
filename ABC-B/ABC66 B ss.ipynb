{
 "cells": [
  {
   "cell_type": "code",
   "execution_count": 16,
   "metadata": {},
   "outputs": [
    {
     "name": "stdout",
     "output_type": "stream",
     "text": [
      "akasakaakasakasakaakas\n",
      "14\n"
     ]
    }
   ],
   "source": [
    "s=list(input())\n",
    "while(1):\n",
    "    t=int(len(s)/2)\n",
    "    if len(s)==1:\n",
    "        print(s)\n",
    "        break\n",
    "    s.pop(-1)\n",
    "    if s[:t]==s[t:]:\n",
    "        print(len(s))\n",
    "        break"
   ]
  },
  {
   "cell_type": "code",
   "execution_count": 7,
   "metadata": {},
   "outputs": [
    {
     "name": "stdout",
     "output_type": "stream",
     "text": [
      "AB\n",
      "DE\n"
     ]
    }
   ],
   "source": [
    "s='ABCDE'\n",
    "t=2\n",
    "print(s[:t])\n",
    "print(s[t+1:])"
   ]
  },
  {
   "cell_type": "code",
   "execution_count": null,
   "metadata": {},
   "outputs": [],
   "source": [
    "#mohan\n",
    "s = input()\n",
    "n = len(s)//2\n",
    "for i in range(1,n):\n",
    "    if s[:n-i] == s[n-i:2*(n-i)]:\n",
    "        print(2*(n-i))\n",
    "        break"
   ]
  }
 ],
 "metadata": {
  "kernelspec": {
   "display_name": "Python 3",
   "language": "python",
   "name": "python3"
  },
  "language_info": {
   "codemirror_mode": {
    "name": "ipython",
    "version": 3
   },
   "file_extension": ".py",
   "mimetype": "text/x-python",
   "name": "python",
   "nbconvert_exporter": "python",
   "pygments_lexer": "ipython3",
   "version": "3.7.1"
  }
 },
 "nbformat": 4,
 "nbformat_minor": 2
}
