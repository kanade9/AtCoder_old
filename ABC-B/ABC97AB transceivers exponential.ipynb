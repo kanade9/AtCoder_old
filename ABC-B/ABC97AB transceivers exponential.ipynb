{
 "cells": [
  {
   "cell_type": "code",
   "execution_count": 9,
   "metadata": {},
   "outputs": [
    {
     "name": "stdout",
     "output_type": "stream",
     "text": [
      "4 7 9 3\n",
      "Yes\n"
     ]
    }
   ],
   "source": [
    "a,b,c,d=map(int,input().split())\n",
    "if abs(c-a)<=d or (abs(c-b)<=d and abs(b-a)<=d):\n",
    "    print(\"Yes\")\n",
    "else :print(\"No\")"
   ]
  },
  {
   "cell_type": "code",
   "execution_count": 2,
   "metadata": {},
   "outputs": [
    {
     "name": "stdout",
     "output_type": "stream",
     "text": [
      "10\n",
      "6\n"
     ]
    }
   ],
   "source": [
    "X=int(input())\n",
    "i=0\n",
    "b=[]\n",
    "while(1):\n",
    "    i+=1\n",
    "    if i*i>X:\n",
    "        vans=i*i\n",
    "        break\n",
    "    elif i*i==X:\n",
    "        b.append(i*i)\n",
    "        break\n",
    "        \n",
    "for k in range(1,i+1):\n",
    "    for j in range(1,i+1):\n",
    "        if(k**j<=X):\n",
    "            b.append(int(k*j))\n",
    "            \n",
    "print(max(b))\n",
    "    \n",
    "    \n",
    "    \n"
   ]
  },
  {
   "cell_type": "code",
   "execution_count": 1,
   "metadata": {},
   "outputs": [
    {
     "name": "stdout",
     "output_type": "stream",
     "text": [
      "9\n"
     ]
    }
   ],
   "source": [
    "i=3\n",
    "i*=i\n",
    "print(i)"
   ]
  },
  {
   "cell_type": "code",
   "execution_count": 13,
   "metadata": {},
   "outputs": [
    {
     "name": "stdout",
     "output_type": "stream",
     "text": [
      "999\n",
      "961\n"
     ]
    }
   ],
   "source": [
    "x=int(input())\n",
    "square=2\n",
    "while square*square<x:\n",
    "    square+=1\n",
    "ans=0\n",
    "for i in range(2,square):\n",
    "    for j in range(2,square):\n",
    "        if i**j>ans and i**j<=x:\n",
    "            ans=i**j\n",
    "if x<4:\n",
    "    ans=1\n",
    "print(ans)"
   ]
  },
  {
   "cell_type": "code",
   "execution_count": null,
   "metadata": {},
   "outputs": [],
   "source": []
  }
 ],
 "metadata": {
  "kernelspec": {
   "display_name": "Python 3",
   "language": "python",
   "name": "python3"
  },
  "language_info": {
   "codemirror_mode": {
    "name": "ipython",
    "version": 3
   },
   "file_extension": ".py",
   "mimetype": "text/x-python",
   "name": "python",
   "nbconvert_exporter": "python",
   "pygments_lexer": "ipython3",
   "version": "3.7.1"
  }
 },
 "nbformat": 4,
 "nbformat_minor": 2
}
