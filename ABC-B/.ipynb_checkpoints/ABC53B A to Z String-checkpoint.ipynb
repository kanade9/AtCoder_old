{
 "cells": [
  {
   "cell_type": "code",
   "execution_count": 9,
   "metadata": {},
   "outputs": [
    {
     "name": "stdout",
     "output_type": "stream",
     "text": [
      "HASFJGHOGAKZZFEGA\n",
      "12\n"
     ]
    }
   ],
   "source": [
    "s=input()\n",
    "i=s.index('A')\n",
    "for j in range(len(s)-1,0,-1):\n",
    "    if s[j]==\"Z\":\n",
    "        l=j\n",
    "        break\n",
    "print(l-i+1)"
   ]
  },
  {
   "cell_type": "code",
   "execution_count": null,
   "metadata": {},
   "outputs": [],
   "source": [
    "#mohan\n",
    "#index以外にも組み込み関数のfind,後ろから数えるrfindを活用しよう\n",
    "s = input()\n",
    "print(s.rfind('Z') - s.find('A') + 1)"
   ]
  }
 ],
 "metadata": {
  "kernelspec": {
   "display_name": "Python 3",
   "language": "python",
   "name": "python3"
  },
  "language_info": {
   "codemirror_mode": {
    "name": "ipython",
    "version": 3
   },
   "file_extension": ".py",
   "mimetype": "text/x-python",
   "name": "python",
   "nbconvert_exporter": "python",
   "pygments_lexer": "ipython3",
   "version": "3.7.1"
  }
 },
 "nbformat": 4,
 "nbformat_minor": 2
}
