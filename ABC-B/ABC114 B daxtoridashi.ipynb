{
 "cells": [
  {
   "cell_type": "code",
   "execution_count": 4,
   "metadata": {},
   "outputs": [
    {
     "name": "stdout",
     "output_type": "stream",
     "text": [
      "12388776753\n",
      "0\n"
     ]
    }
   ],
   "source": [
    "R=str(input())\n",
    "min=999\n",
    "for i in range(len(R)-2):\n",
    "    S=0\n",
    "    S=int(R[i])*100\n",
    "    S=S+int(R[i+1])*10\n",
    "    S=S+int(R[i+2])\n",
    "    if abs(S-753)< min:\n",
    "        min=abs(S-753)\n",
    "print(min)"
   ]
  }
 ],
 "metadata": {
  "kernelspec": {
   "display_name": "Python 3",
   "language": "python",
   "name": "python3"
  },
  "language_info": {
   "codemirror_mode": {
    "name": "ipython",
    "version": 3
   },
   "file_extension": ".py",
   "mimetype": "text/x-python",
   "name": "python",
   "nbconvert_exporter": "python",
   "pygments_lexer": "ipython3",
   "version": "3.7.0"
  }
 },
 "nbformat": 4,
 "nbformat_minor": 2
}
