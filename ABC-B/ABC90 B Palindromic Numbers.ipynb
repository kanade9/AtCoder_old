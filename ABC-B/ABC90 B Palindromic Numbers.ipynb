{
 "cells": [
  {
   "cell_type": "code",
   "execution_count": 6,
   "metadata": {},
   "outputs": [
    {
     "name": "stdout",
     "output_type": "stream",
     "text": [
      "31415 92653\n",
      "612\n"
     ]
    }
   ],
   "source": [
    "a,b=map(str,input().split())\n",
    "xa=int(a)\n",
    "xb=int(b)\n",
    "n=xb-xa\n",
    "ans=0\n",
    "for i in range(n+1):\n",
    "    if a[0]==a[4]and a[1]==a[3]:\n",
    "        ans+=1\n",
    "    xa+=1\n",
    "    a=str(xa)\n",
    "print(ans)"
   ]
  },
  {
   "cell_type": "code",
   "execution_count": 7,
   "metadata": {},
   "outputs": [
    {
     "name": "stdout",
     "output_type": "stream",
     "text": [
      "cba\n"
     ]
    }
   ],
   "source": [
    "#模範では逆順スライスを用いている\n",
    "a=\"abc\"\n",
    "print(a[::-1])\n",
    "#for文の使い方もうまいので参考にしたい。↓"
   ]
  },
  {
   "cell_type": "code",
   "execution_count": null,
   "metadata": {},
   "outputs": [],
   "source": [
    "#mohan\n",
    "a ,b = map(int,input().split())\n",
    "cnt = 0\n",
    "for number in range(a,b+1):\n",
    "    if str(number) == str(number)[::-1]:\n",
    "        cnt += 1\n",
    "print(cnt)"
   ]
  }
 ],
 "metadata": {
  "kernelspec": {
   "display_name": "Python 3",
   "language": "python",
   "name": "python3"
  },
  "language_info": {
   "codemirror_mode": {
    "name": "ipython",
    "version": 3
   },
   "file_extension": ".py",
   "mimetype": "text/x-python",
   "name": "python",
   "nbconvert_exporter": "python",
   "pygments_lexer": "ipython3",
   "version": "3.7.1"
  }
 },
 "nbformat": 4,
 "nbformat_minor": 2
}
