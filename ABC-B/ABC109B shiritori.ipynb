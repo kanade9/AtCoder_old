{
 "cells": [
  {
   "cell_type": "code",
   "execution_count": 8,
   "metadata": {},
   "outputs": [
    {
     "name": "stdout",
     "output_type": "stream",
     "text": [
      "2\n",
      "dog\n",
      "dog\n",
      "['dog', 'dog']\n",
      "NO\n"
     ]
    }
   ],
   "source": [
    "import sys\n",
    "N=int(input())\n",
    "vo=[]\n",
    "for i in range(N):\n",
    "    vo.append(input())\n",
    "print(vo)\n",
    "if len(vo) != len(set(vo)):\n",
    "    print('NO')"
   ]
  },
  {
   "cell_type": "code",
   "execution_count": null,
   "metadata": {},
   "outputs": [],
   "source": []
  },
  {
   "cell_type": "code",
   "execution_count": 52,
   "metadata": {},
   "outputs": [
    {
     "name": "stdout",
     "output_type": "stream",
     "text": [
      "3\n",
      "dog\n",
      "dog\n",
      "dog\n",
      "No\n"
     ]
    }
   ],
   "source": [
    "N=int(input())\n",
    "vo=[]\n",
    "flag=True\n",
    "for i in range(N):\n",
    "    vo.append(input())\n",
    "    \n",
    "if len(vo) != len(set(vo)):\n",
    "    flag=False\n",
    "    \n",
    "for i in range(N-1):\n",
    "    a=vo[i]\n",
    "    b=vo[i+1]  \n",
    "    if a[len(a)-1] != b[0]:\n",
    "        flag=False\n",
    "        \n",
    "if not flag:\n",
    "    print(\"No\")\n",
    "else:\n",
    "    print(\"Yes\")\n",
    "    \n"
   ]
  },
  {
   "cell_type": "code",
   "execution_count": null,
   "metadata": {},
   "outputs": [],
   "source": []
  },
  {
   "cell_type": "code",
   "execution_count": 35,
   "metadata": {},
   "outputs": [
    {
     "name": "stdout",
     "output_type": "stream",
     "text": [
      "N\n"
     ]
    }
   ],
   "source": [
    "a='AYAMAN'\n",
    "print(a[+5:])"
   ]
  },
  {
   "cell_type": "code",
   "execution_count": null,
   "metadata": {},
   "outputs": [],
   "source": []
  }
 ],
 "metadata": {
  "kernelspec": {
   "display_name": "Python 3",
   "language": "python",
   "name": "python3"
  },
  "language_info": {
   "codemirror_mode": {
    "name": "ipython",
    "version": 3
   },
   "file_extension": ".py",
   "mimetype": "text/x-python",
   "name": "python",
   "nbconvert_exporter": "python",
   "pygments_lexer": "ipython3",
   "version": "3.7.0"
  }
 },
 "nbformat": 4,
 "nbformat_minor": 2
}
