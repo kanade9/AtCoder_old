{
 "cells": [
  {
   "cell_type": "code",
   "execution_count": 22,
   "metadata": {},
   "outputs": [
    {
     "name": "stdout",
     "output_type": "stream",
     "text": [
      "aqzjshqwtersxdbcgfvntmykuopb\n",
      "i\n"
     ]
    }
   ],
   "source": [
    "import sys\n",
    "a=[0]*26\n",
    "s=input()\n",
    "for i in range(len(s)):\n",
    "    a[ord(s[i])-97]=1\n",
    "    #print(a)\n",
    "    if 0 not in a:\n",
    "        print('None')\n",
    "        sys.exit(0)\n",
    "for i in range(26):\n",
    "    #print(i)\n",
    "    if a[i]==0:\n",
    "        print(chr(i+97))\n",
    "        break"
   ]
  },
  {
   "cell_type": "code",
   "execution_count": 10,
   "metadata": {},
   "outputs": [
    {
     "name": "stdout",
     "output_type": "stream",
     "text": [
      "122\n"
     ]
    }
   ],
   "source": [
    "print(ord(\"z\"))"
   ]
  },
  {
   "cell_type": "code",
   "execution_count": 11,
   "metadata": {},
   "outputs": [
    {
     "name": "stdout",
     "output_type": "stream",
     "text": [
      "[0, 0, 0]\n"
     ]
    }
   ],
   "source": [
    "#mohan\n",
    "s = set(input())\n",
    "on = set(\"abcdefghijklmnopqrstuvwxyz\")\n",
    "try:\n",
    "  print(min(on-s))\n",
    "except ValueError:\n",
    "  print(\"None\")"
   ]
  },
  {
   "cell_type": "code",
   "execution_count": null,
   "metadata": {},
   "outputs": [],
   "source": [
    "alp=\"abcdefghijklmnopqrstuvwxyz\"\n",
    "s=set(list(input()))\n",
    "for c in alp:\n",
    "    if c not in s:\n",
    "        print(c)\n",
    "        exit()\n",
    "print('None')"
   ]
  }
 ],
 "metadata": {
  "kernelspec": {
   "display_name": "Python 3",
   "language": "python",
   "name": "python3"
  },
  "language_info": {
   "codemirror_mode": {
    "name": "ipython",
    "version": 3
   },
   "file_extension": ".py",
   "mimetype": "text/x-python",
   "name": "python",
   "nbconvert_exporter": "python",
   "pygments_lexer": "ipython3",
   "version": "3.7.1"
  }
 },
 "nbformat": 4,
 "nbformat_minor": 2
}
