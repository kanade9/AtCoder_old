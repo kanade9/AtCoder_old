{
 "cells": [
  {
   "cell_type": "code",
   "execution_count": 9,
   "metadata": {},
   "outputs": [
    {
     "name": "stdout",
     "output_type": "stream",
     "text": [
      "3\n",
      "abc\n",
      "dsd\n",
      "abc\n",
      "Counter({'abc': 2, 'dsd': 1})\n"
     ]
    }
   ],
   "source": [
    "#collectionを使った練習\n",
    "collections\n",
    "N=int(input())\n",
    "s = [input() for i in range(N)]\n",
    "sx=collections.Counter(s)\n",
    "print(sx)"
   ]
  },
  {
   "cell_type": "code",
   "execution_count": 23,
   "metadata": {},
   "outputs": [
    {
     "name": "stdout",
     "output_type": "stream",
     "text": [
      "3\n",
      "apple\n",
      "apple\n",
      "xxx\n",
      "2\n",
      "apple\n",
      "wolf\n",
      "1\n"
     ]
    }
   ],
   "source": [
    "#91 Answer\n",
    "N=int(input())\n",
    "s = [input() for i in range(N)]\n",
    "M=int(input())\n",
    "t = [input() for i in range(M)]\n",
    "tmp=[0]\n",
    "for i in range(N):\n",
    "    point=0\n",
    "    point+=s.count(s[i])\n",
    "    point-=t.count(s[i])\n",
    "    tmp.append(point)\n",
    "print(max(tmp))"
   ]
  },
  {
   "cell_type": "code",
   "execution_count": null,
   "metadata": {},
   "outputs": [],
   "source": [
    "#mohan\n",
    "n=int(input())\n",
    "s=[input() for i in range(n)]\n",
    "m=int(input())\n",
    "t=[input() for i in range(m)]\n",
    "ans=0\n",
    "for i in range(n):\n",
    "  ans=max(ans,s.count(s[i])-t.count(s[i]))\n",
    "print(ans)"
   ]
  }
 ],
 "metadata": {
  "kernelspec": {
   "display_name": "Python 3",
   "language": "python",
   "name": "python3"
  },
  "language_info": {
   "codemirror_mode": {
    "name": "ipython",
    "version": 3
   },
   "file_extension": ".py",
   "mimetype": "text/x-python",
   "name": "python",
   "nbconvert_exporter": "python",
   "pygments_lexer": "ipython3",
   "version": "3.7.1"
  }
 },
 "nbformat": 4,
 "nbformat_minor": 2
}
