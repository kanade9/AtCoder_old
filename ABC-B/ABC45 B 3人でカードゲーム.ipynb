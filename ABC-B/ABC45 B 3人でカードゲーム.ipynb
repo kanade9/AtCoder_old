{
 "cells": [
  {
   "cell_type": "code",
   "execution_count": 30,
   "metadata": {},
   "outputs": [
    {
     "name": "stdout",
     "output_type": "stream",
     "text": [
      "abcb\n",
      "aacb\n",
      "bccc\n",
      "C\n"
     ]
    }
   ],
   "source": [
    "#読んでからpopするんじゃなくてpopしたのを読むという考え方。\n",
    "a=list(input())\n",
    "b=list(input())\n",
    "c=list(input())\n",
    "read=a[0]\n",
    "\n",
    "while(1):\n",
    "    if read=='a':\n",
    "        try:\n",
    "            read=a.pop(0)\n",
    "        except:\n",
    "            f='A'\n",
    "            break\n",
    "    if read=='b':\n",
    "        try:\n",
    "            read=b.pop(0)\n",
    "        except:\n",
    "            f='B'\n",
    "            break\n",
    "    if read=='c':\n",
    "        try:\n",
    "            read=c.pop(0)\n",
    "        except:\n",
    "            f='C'\n",
    "            break\n",
    "print(f)\n",
    "    "
   ]
  },
  {
   "cell_type": "code",
   "execution_count": 26,
   "metadata": {},
   "outputs": [
    {
     "name": "stdout",
     "output_type": "stream",
     "text": [
      "b\n"
     ]
    }
   ],
   "source": [
    "a=list('abcd')\n",
    "a.pop(0)\n",
    "print(a[0])"
   ]
  },
  {
   "cell_type": "code",
   "execution_count": null,
   "metadata": {},
   "outputs": [],
   "source": [
    "#配列全体を代入しちゃう考え方。配列全体の長さで比較している。\n",
    "s = {\"a\":input(), \"b\":input(), \"c\":input()}\n",
    "x = \"a\"\n",
    "while len(s[x])!=0:\n",
    "    i = s[x][0]\n",
    "    s[x]=s[x][1:]\n",
    "    x = i\n",
    "print(x.upper())"
   ]
  },
  {
   "cell_type": "code",
   "execution_count": null,
   "metadata": {},
   "outputs": [],
   "source": []
  },
  {
   "cell_type": "code",
   "execution_count": 33,
   "metadata": {},
   "outputs": [
    {
     "name": "stdout",
     "output_type": "stream",
     "text": [
      "abca\n",
      "cbcb\n",
      "ca\n",
      "{'a': 'abca', 'b': 'cbcb', 'c': 'ca'}\n"
     ]
    }
   ],
   "source": [
    "s={\"a\" :input(), \"b\" :input(), \"c\" :input()}\n",
    "print(s)\n",
    "listを使わないパターン。"
   ]
  },
  {
   "cell_type": "code",
   "execution_count": null,
   "metadata": {},
   "outputs": [],
   "source": []
  }
 ],
 "metadata": {
  "kernelspec": {
   "display_name": "Python 3",
   "language": "python",
   "name": "python3"
  },
  "language_info": {
   "codemirror_mode": {
    "name": "ipython",
    "version": 3
   },
   "file_extension": ".py",
   "mimetype": "text/x-python",
   "name": "python",
   "nbconvert_exporter": "python",
   "pygments_lexer": "ipython3",
   "version": "3.7.1"
  }
 },
 "nbformat": 4,
 "nbformat_minor": 2
}
