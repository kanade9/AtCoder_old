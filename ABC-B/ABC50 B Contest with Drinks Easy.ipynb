{
 "cells": [
  {
   "cell_type": "code",
   "execution_count": 1,
   "metadata": {},
   "outputs": [
    {
     "name": "stdout",
     "output_type": "stream",
     "text": [
      "5\n",
      "7 2 3 8 5\n",
      "3\n",
      "4 2\n",
      "1 7\n",
      "4 13\n",
      "19\n",
      "25\n",
      "30\n"
     ]
    }
   ],
   "source": [
    "n=int(input())\n",
    "t=[int(i) for i in input().split()]\n",
    "m=int(input())\n",
    "a=[]\n",
    "for i in range(m):\n",
    "    x,y=map(int,input().split())\n",
    "    a.append(sum(t)-(t[x-1]-y))\n",
    "    \n",
    "for i in range(m):\n",
    "    print(a[i])"
   ]
  },
  {
   "cell_type": "code",
   "execution_count": 2,
   "metadata": {
    "scrolled": true
   },
   "outputs": [
    {
     "name": "stdout",
     "output_type": "stream",
     "text": [
      "5\n",
      "7 2 3 8 5\n",
      "3\n",
      "4 2\n",
      "19\n",
      "1 7\n",
      "25\n",
      "4 13\n",
      "30\n"
     ]
    }
   ],
   "source": [
    "N=int(input())\n",
    "t=list(map(int,input().split()))\n",
    "T=[0]\n",
    "T=T+t\n",
    "# listのindexを揃える方法（１番から…とか）\n",
    " \n",
    "M=int(input())\n",
    "for i in range(M):\n",
    "    p,x=map(int,input().split())\n",
    "    print(sum(T)-(T[p]-x))\n",
    "#出力、入力を分けるからこのような形式でも大丈夫！"
   ]
  },
  {
   "cell_type": "code",
   "execution_count": null,
   "metadata": {},
   "outputs": [],
   "source": []
  }
 ],
 "metadata": {
  "kernelspec": {
   "display_name": "Python 3",
   "language": "python",
   "name": "python3"
  },
  "language_info": {
   "codemirror_mode": {
    "name": "ipython",
    "version": 3
   },
   "file_extension": ".py",
   "mimetype": "text/x-python",
   "name": "python",
   "nbconvert_exporter": "python",
   "pygments_lexer": "ipython3",
   "version": "3.7.1"
  }
 },
 "nbformat": 4,
 "nbformat_minor": 2
}
