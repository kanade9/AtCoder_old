{
 "cells": [
  {
   "cell_type": "code",
   "execution_count": 18,
   "metadata": {},
   "outputs": [
    {
     "ename": "IndentationError",
     "evalue": "expected an indented block (<ipython-input-18-2914d6ecdcf0>, line 5)",
     "output_type": "error",
     "traceback": [
      "\u001b[1;36m  File \u001b[1;32m\"<ipython-input-18-2914d6ecdcf0>\"\u001b[1;36m, line \u001b[1;32m5\u001b[0m\n\u001b[1;33m    print(s[:i])\u001b[0m\n\u001b[1;37m        ^\u001b[0m\n\u001b[1;31mIndentationError\u001b[0m\u001b[1;31m:\u001b[0m expected an indented block\n"
     ]
    }
   ],
   "source": [
    "#n=int(input())\n",
    "s=(input())\n",
    "ans=0\n",
    "for i in range(3):\n",
    "print(s[:i])\n"
   ]
  },
  {
   "cell_type": "code",
   "execution_count": 49,
   "metadata": {},
   "outputs": [
    {
     "name": "stdout",
     "output_type": "stream",
     "text": [
      "6\n",
      "aabbcc\n",
      "1\n"
     ]
    }
   ],
   "source": [
    "#mohanA\n",
    "N = int(input())\n",
    "S = list(input())\n",
    " \n",
    "ans = 0\n",
    "for i in range(N):\n",
    "    s1 = set(S[:i+1])\n",
    "    s2 = set(S[i+1:])\n",
    "    ans = max(ans,len(s1&s2))\n",
    " \n",
    "print(ans)"
   ]
  },
  {
   "cell_type": "code",
   "execution_count": 38,
   "metadata": {},
   "outputs": [
    {
     "name": "stdout",
     "output_type": "stream",
     "text": [
      "7\n",
      "abcdefg\n",
      "{'a'}\n",
      "{'b', 'f', 'c', 'g', 'd', 'e'}\n",
      "---\n",
      "set()\n",
      "---\n",
      "{'a', 'b'}\n",
      "{'f', 'c', 'g', 'd', 'e'}\n",
      "---\n",
      "set()\n",
      "---\n",
      "{'a', 'c', 'b'}\n",
      "{'d', 'e', 'f', 'g'}\n",
      "---\n",
      "set()\n",
      "---\n",
      "{'a', 'd', 'c', 'b'}\n",
      "{'e', 'f', 'g'}\n",
      "---\n",
      "set()\n",
      "---\n",
      "{'b', 'a', 'c', 'd', 'e'}\n",
      "{'f', 'g'}\n",
      "---\n",
      "set()\n",
      "---\n",
      "{'b', 'a', 'f', 'c', 'd', 'e'}\n",
      "{'g'}\n",
      "---\n",
      "set()\n",
      "---\n"
     ]
    }
   ],
   "source": [
    "N = int(input())\n",
    "S = input()\n",
    " \n",
    "ans = 0\n",
    "for i in range(N-1):\n",
    "    s1 = set(list(S[:i+1]))\n",
    "    print(s1)\n",
    "    s2 = set(list(S[i+1:]))\n",
    "    print(s2)\n",
    "    #ans = max(ans,len(s1&s2))\n",
    "    print('---')\n",
    "    print(s1&s2)\n",
    "    print('---')\n",
    " \n",
    "#print(ans)"
   ]
  },
  {
   "cell_type": "code",
   "execution_count": null,
   "metadata": {},
   "outputs": [],
   "source": [
    "a=0\n",
    "for i in range(10):\n",
    "    ans=max()\n",
    "    print()"
   ]
  },
  {
   "cell_type": "code",
   "execution_count": 54,
   "metadata": {},
   "outputs": [
    {
     "name": "stdout",
     "output_type": "stream",
     "text": [
      "6\n",
      "aabbcc\n",
      "2\n"
     ]
    }
   ],
   "source": [
    "#Retry\n",
    "N=int(input())\n",
    "S=list(input())\n",
    "ans=0\n",
    "for i in range(N-1):\n",
    "    a=set(S[:i+1])\n",
    "    b=set(S[i+1:])\n",
    "    ans=max(ans,len(a&b))\n",
    "print(ans)\n"
   ]
  },
  {
   "cell_type": "code",
   "execution_count": null,
   "metadata": {},
   "outputs": [],
   "source": []
  }
 ],
 "metadata": {
  "kernelspec": {
   "display_name": "Python 3",
   "language": "python",
   "name": "python3"
  },
  "language_info": {
   "codemirror_mode": {
    "name": "ipython",
    "version": 3
   },
   "file_extension": ".py",
   "mimetype": "text/x-python",
   "name": "python",
   "nbconvert_exporter": "python",
   "pygments_lexer": "ipython3",
   "version": "3.7.1"
  }
 },
 "nbformat": 4,
 "nbformat_minor": 2
}
