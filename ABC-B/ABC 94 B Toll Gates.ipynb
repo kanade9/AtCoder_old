{
 "cells": [
  {
   "cell_type": "code",
   "execution_count": 7,
   "metadata": {},
   "outputs": [
    {
     "name": "stdout",
     "output_type": "stream",
     "text": [
      "10 7 5\n",
      "1 2 3 4 6 8 9\n",
      "3\n"
     ]
    }
   ],
   "source": [
    "n,m,x=map(int,input().split())\n",
    "a=[int(i) for i in input().split()]\n",
    "be=0\n",
    "af=0\n",
    "for i in range(m):\n",
    "    if a[i]<x:\n",
    "        be+=1\n",
    "    elif a[i]>x:\n",
    "        af+=1\n",
    "print(be if be<af else af)\n",
    "        \n"
   ]
  },
  {
   "cell_type": "code",
   "execution_count": null,
   "metadata": {},
   "outputs": [],
   "source": []
  }
 ],
 "metadata": {
  "kernelspec": {
   "display_name": "Python 3",
   "language": "python",
   "name": "python3"
  },
  "language_info": {
   "codemirror_mode": {
    "name": "ipython",
    "version": 3
   },
   "file_extension": ".py",
   "mimetype": "text/x-python",
   "name": "python",
   "nbconvert_exporter": "python",
   "pygments_lexer": "ipython3",
   "version": "3.7.1"
  }
 },
 "nbformat": 4,
 "nbformat_minor": 2
}
