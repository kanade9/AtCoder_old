{
 "cells": [
  {
   "cell_type": "code",
   "execution_count": 25,
   "metadata": {},
   "outputs": [
    {
     "name": "stdout",
     "output_type": "stream",
     "text": [
      "12345\n",
      "34512\n",
      "['4', '3', '2', '2', '4']\n",
      "['3', '2', '2', '2', '3']\n",
      "['2', '2', '2', '2', '2']\n",
      "['2', '2', '2', '2', '2']\n",
      "No\n"
     ]
    }
   ],
   "source": [
    "S=list(input())\n",
    "T=list(input())\n",
    "\n",
    "ok=False\n",
    "for i in range(len(S)-1):\n",
    "    for k in range(1,len(S)-1):\n",
    "        temp=S[len(S)-1]\n",
    "        S[len(S)-1-k+1]=S[len(S)-1-k]\n",
    "        S[0]=temp\n",
    "    print(S[::-1])\n",
    "    if S[::-1]==T[::-1]:\n",
    "        ok=True\n",
    "        break\n",
    "print(\"Yes\"if ok else \"No\")"
   ]
  },
  {
   "cell_type": "code",
   "execution_count": 27,
   "metadata": {},
   "outputs": [
    {
     "name": "stdout",
     "output_type": "stream",
     "text": [
      "kyoto\n",
      "kyotokyoto\n"
     ]
    }
   ],
   "source": [
    "#mohanA\n",
    "s=input()\n",
    "t=input()\n",
    "print(\"Yes\" if t in s*2 else \"No\")"
   ]
  },
  {
   "cell_type": "code",
   "execution_count": 31,
   "metadata": {},
   "outputs": [
    {
     "name": "stdout",
     "output_type": "stream",
     "text": [
      "12345\n",
      "['5', '1', '2', '3', '4']\n",
      "['4', '5', '1', '2', '3']\n",
      "['3', '4', '5', '1', '2']\n",
      "['2', '3', '4', '5', '1']\n",
      "['1', '2', '3', '4', '5']\n"
     ]
    }
   ],
   "source": [
    "#mohanB(listのアルゴリズムのみ)\n",
    "S=list(input())\n",
    "for i in range(len(S)):\n",
    "    S.insert(0, S.pop()) #popしたものを先頭に入れる\n",
    "    print(S)"
   ]
  },
  {
   "cell_type": "code",
   "execution_count": 30,
   "metadata": {},
   "outputs": [
    {
     "name": "stdout",
     "output_type": "stream",
     "text": [
      "12345\n",
      "['1', '2', '3', '4']\n"
     ]
    }
   ],
   "source": [
    "S=list(input())\n",
    "S.pop()\n",
    "print(S)"
   ]
  },
  {
   "cell_type": "code",
   "execution_count": null,
   "metadata": {},
   "outputs": [],
   "source": []
  }
 ],
 "metadata": {
  "kernelspec": {
   "display_name": "Python 3",
   "language": "python",
   "name": "python3"
  },
  "language_info": {
   "codemirror_mode": {
    "name": "ipython",
    "version": 3
   },
   "file_extension": ".py",
   "mimetype": "text/x-python",
   "name": "python",
   "nbconvert_exporter": "python",
   "pygments_lexer": "ipython3",
   "version": "3.7.1"
  }
 },
 "nbformat": 4,
 "nbformat_minor": 2
}
