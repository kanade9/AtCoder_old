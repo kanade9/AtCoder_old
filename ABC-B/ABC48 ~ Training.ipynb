{
 "cells": [
  {
   "cell_type": "code",
   "execution_count": 4,
   "metadata": {},
   "outputs": [
    {
     "name": "stdout",
     "output_type": "stream",
     "text": [
      "9 9 2\n",
      "1\n"
     ]
    }
   ],
   "source": [
    "#ABC48\n",
    "a,b,x=map(int,input().split())\n",
    "ans=b//x - a//x\n",
    "print(ans if a%x!=0 else ans+1)"
   ]
  },
  {
   "cell_type": "code",
   "execution_count": null,
   "metadata": {},
   "outputs": [],
   "source": [
    "#ABC47\n",
    "\n",
    "w,h,n=map(int,input().split())\n",
    "A=[[0 for i in range(w)]for j in range(h)]\n",
    "#リストのリストで２次元配列を定義\n",
    "for i in range(n):\n",
    "    a,b,c=map(int,input().split())\n",
    "    if c==1:\n",
    "        for i in range(h):\n",
    "            for j in range(a):\n",
    "                A[i][j]=1\n",
    "    elif c==2:\n",
    "        for i in range(h):\n",
    "            for j in range(w-a):\n",
    "                A[i][j+a]=1\n",
    "    "
   ]
  }
 ],
 "metadata": {
  "kernelspec": {
   "display_name": "Python 3",
   "language": "python",
   "name": "python3"
  },
  "language_info": {
   "codemirror_mode": {
    "name": "ipython",
    "version": 3
   },
   "file_extension": ".py",
   "mimetype": "text/x-python",
   "name": "python",
   "nbconvert_exporter": "python",
   "pygments_lexer": "ipython3",
   "version": "3.7.1"
  }
 },
 "nbformat": 4,
 "nbformat_minor": 2
}
