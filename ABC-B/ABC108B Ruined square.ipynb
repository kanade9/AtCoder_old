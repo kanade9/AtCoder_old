{
 "cells": [
  {
   "cell_type": "code",
   "execution_count": 11,
   "metadata": {},
   "outputs": [
    {
     "name": "stdout",
     "output_type": "stream",
     "text": [
      "2 3 6 6\n",
      "-5 9 -16 6\n"
     ]
    }
   ],
   "source": [
    "X1,Y1,X2,Y2=map(int,input().split())\n",
    "\n",
    "if(X2-X1)==0:\n",
    "    X3=-Y2\n",
    "    Y3=Y2\n",
    "    X4=-Y2\n",
    "    Y4=0\n",
    "elif (X2-X1/Y2-Y1)>0:\n",
    "    Y4=Y2\n",
    "    X1=X3\n",
    "    Y3=Y1+2*(Y2-Y1)\n",
    "    X4=X1-(X2-X1)\n",
    "else:\n",
    "    Y3=X3\n",
    "    X4=X2\n",
    "    X3=X2+(X2-X1)\n",
    "    Y4=Y2-2*(Y2-Y1)\n",
    "print(X3,Y3,X4,Y4)\n",
    "    "
   ]
  },
  {
   "cell_type": "code",
   "execution_count": null,
   "metadata": {},
   "outputs": [],
   "source": []
  },
  {
   "cell_type": "code",
   "execution_count": null,
   "metadata": {},
   "outputs": [],
   "source": []
  }
 ],
 "metadata": {
  "kernelspec": {
   "display_name": "Python 3",
   "language": "python",
   "name": "python3"
  },
  "language_info": {
   "codemirror_mode": {
    "name": "ipython",
    "version": 3
   },
   "file_extension": ".py",
   "mimetype": "text/x-python",
   "name": "python",
   "nbconvert_exporter": "python",
   "pygments_lexer": "ipython3",
   "version": "3.7.0"
  }
 },
 "nbformat": 4,
 "nbformat_minor": 2
}
