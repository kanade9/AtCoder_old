{
 "cells": [
  {
   "cell_type": "code",
   "execution_count": 8,
   "metadata": {},
   "outputs": [
    {
     "name": "stdout",
     "output_type": "stream",
     "text": [
      "4 360\n",
      "90\n",
      "90\n",
      "90\n",
      "90\n",
      "4\n"
     ]
    }
   ],
   "source": [
    "n,x=map(int,input().split())\n",
    "a = [int(input()) for i in range(n)]\n",
    "a.sort()\n",
    "for i in range(n):\n",
    "    x-=a[i]\n",
    "cnt=n\n",
    "while(1):\n",
    "    if x-a[0]<0:\n",
    "        break\n",
    "    else:\n",
    "        x-=a[0]\n",
    "        cnt+=1\n",
    "print(cnt)"
   ]
  },
  {
   "cell_type": "code",
   "execution_count": null,
   "metadata": {},
   "outputs": [],
   "source": [
    "3"
   ]
  }
 ],
 "metadata": {
  "kernelspec": {
   "display_name": "Python 3",
   "language": "python",
   "name": "python3"
  },
  "language_info": {
   "codemirror_mode": {
    "name": "ipython",
    "version": 3
   },
   "file_extension": ".py",
   "mimetype": "text/x-python",
   "name": "python",
   "nbconvert_exporter": "python",
   "pygments_lexer": "ipython3",
   "version": "3.7.1"
  }
 },
 "nbformat": 4,
 "nbformat_minor": 2
}
