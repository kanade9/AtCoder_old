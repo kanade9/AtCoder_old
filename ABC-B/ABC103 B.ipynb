{
 "cells": [
  {
   "cell_type": "code",
   "execution_count": 1,
   "metadata": {},
   "outputs": [
    {
     "name": "stdout",
     "output_type": "stream",
     "text": [
      "tokyo\n",
      "kyoto\n",
      "Yes\n"
     ]
    }
   ],
   "source": [
    "S=list(input())\n",
    "T=list(input())\n",
    "for i in range(len(S)):\n",
    "    l=S[-1]\n",
    "    S.pop(len(S)-1)\n",
    "    S.insert(0,l)\n",
    "    if S==T:\n",
    "        ok=True\n",
    "print('Yes' if ok else \"No\")\n",
    "    "
   ]
  },
  {
   "cell_type": "code",
   "execution_count": null,
   "metadata": {},
   "outputs": [],
   "source": []
  },
  {
   "cell_type": "code",
   "execution_count": 12,
   "metadata": {},
   "outputs": [
    {
     "name": "stdout",
     "output_type": "stream",
     "text": [
      "aaaab\n",
      "aaaab\n",
      "Yes\n"
     ]
    }
   ],
   "source": [
    "s=list(input())\n",
    "t=list(input())\n",
    "ok=False\n",
    "for x in range(len(s)):\n",
    "    l=s[-1]\n",
    "    s.pop(len(s)-1)\n",
    "    s.insert(0,l)\n",
    "    if s==t:\n",
    "        ok=True\n",
    "print(\"Yes\"if ok else \"No\")"
   ]
  },
  {
   "cell_type": "code",
   "execution_count": null,
   "metadata": {},
   "outputs": [],
   "source": []
  },
  {
   "cell_type": "code",
   "execution_count": null,
   "metadata": {},
   "outputs": [],
   "source": []
  }
 ],
 "metadata": {
  "kernelspec": {
   "display_name": "Python 3",
   "language": "python",
   "name": "python3"
  },
  "language_info": {
   "codemirror_mode": {
    "name": "ipython",
    "version": 3
   },
   "file_extension": ".py",
   "mimetype": "text/x-python",
   "name": "python",
   "nbconvert_exporter": "python",
   "pygments_lexer": "ipython3",
   "version": "3.7.1"
  }
 },
 "nbformat": 4,
 "nbformat_minor": 2
}
