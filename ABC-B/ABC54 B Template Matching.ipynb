{
 "cells": [
  {
   "cell_type": "code",
   "execution_count": 6,
   "metadata": {},
   "outputs": [
    {
     "name": "stdout",
     "output_type": "stream",
     "text": [
      "4 1\n",
      "....\n",
      "....\n",
      "....\n",
      "....\n",
      "#\n",
      "['.']\n",
      "['.']\n",
      "['.']\n",
      "['.']\n",
      "['.']\n",
      "['.']\n",
      "['.']\n",
      "['.']\n",
      "['.']\n",
      "['.']\n",
      "['.']\n",
      "['.']\n",
      "['.']\n",
      "['.']\n",
      "['.']\n",
      "['.']\n",
      "No\n"
     ]
    }
   ],
   "source": [
    "n,m=map(int,input().split())\n",
    "a = []\n",
    "for i in range(n):\n",
    "    a.append(input())\n",
    "b = []\n",
    "for i in range(m):\n",
    "    b.append(input())\n",
    "\n",
    "ok=False\n",
    "\n",
    "for i in range(n-m+1):\n",
    "    for j in range(n-m+1):\n",
    "        cf=[]\n",
    "        for z in range(m):\n",
    "            parts=a[i+z][j:j+m]\n",
    "            #aを行ごとに区切って代入\n",
    "            cf.append(parts)\n",
    "        #正方形ができたら確認\n",
    "        print(cf)\n",
    "        if cf==b:\n",
    "            ok=True\n",
    "print(\"Yes\"if ok else \"No\")"
   ]
  },
  {
   "cell_type": "code",
   "execution_count": null,
   "metadata": {},
   "outputs": [],
   "source": []
  }
 ],
 "metadata": {
  "kernelspec": {
   "display_name": "Python 3",
   "language": "python",
   "name": "python3"
  },
  "language_info": {
   "codemirror_mode": {
    "name": "ipython",
    "version": 3
   },
   "file_extension": ".py",
   "mimetype": "text/x-python",
   "name": "python",
   "nbconvert_exporter": "python",
   "pygments_lexer": "ipython3",
   "version": "3.7.1"
  }
 },
 "nbformat": 4,
 "nbformat_minor": 2
}
