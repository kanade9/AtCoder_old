{
 "cells": [
  {
   "cell_type": "code",
   "execution_count": 10,
   "metadata": {},
   "outputs": [
    {
     "name": "stdout",
     "output_type": "stream",
     "text": [
      "atcoderbeginnercontest\n",
      "atcoderregularcontest\n",
      "aattccooddeerrbreeggiunlnaerrccoonntteesstt"
     ]
    }
   ],
   "source": [
    "a=input()\n",
    "b=input()\n",
    "for i in range(len(a)):\n",
    "    print(a[i],end='')\n",
    "    if i>len(b)-1:\n",
    "        break\n",
    "    else:\n",
    "        print(b[i],end='')"
   ]
  },
  {
   "cell_type": "code",
   "execution_count": null,
   "metadata": {},
   "outputs": [],
   "source": [
    "#bekkai\n",
    "O=input()\n",
    "E=input()\n",
    "password=''\n",
    "for i in range(len(E)):\n",
    "    password+=O[i]\n",
    "    password+=E[i]\n",
    "if len(O)!=len(E):\n",
    "    password+=O[-1]\n",
    "\n",
    "print(password)"
   ]
  }
 ],
 "metadata": {
  "kernelspec": {
   "display_name": "Python 3",
   "language": "python",
   "name": "python3"
  },
  "language_info": {
   "codemirror_mode": {
    "name": "ipython",
    "version": 3
   },
   "file_extension": ".py",
   "mimetype": "text/x-python",
   "name": "python",
   "nbconvert_exporter": "python",
   "pygments_lexer": "ipython3",
   "version": "3.7.1"
  }
 },
 "nbformat": 4,
 "nbformat_minor": 2
}
