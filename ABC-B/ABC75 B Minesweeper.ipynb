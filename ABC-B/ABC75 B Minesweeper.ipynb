{
 "cells": [
  {
   "cell_type": "code",
   "execution_count": 15,
   "metadata": {},
   "outputs": [
    {
     "name": "stdout",
     "output_type": "stream",
     "text": [
      "3 5\n",
      ".....\n",
      ".....\n",
      "...#.\n",
      "00000010\n",
      "00000010\n",
      "00000010\n"
     ]
    }
   ],
   "source": [
    "h,w=map(int,input().split())\n",
    "xmove=[1,1,0,-1,-1,-1,0,1]\n",
    "ymove=[0,1,1,1,0,-1,-1,-1]\n",
    "b = list()\n",
    "temp=[]\n",
    "t=[]\n",
    "for i in range(h):\n",
    "    b.append(input())\n",
    "for i in range(h):\n",
    "    for j in range(w):\n",
    "        if b[i][j]=='.':\n",
    "            cnt=0\n",
    "            for k in range(8):\n",
    "                x=i+xmove[k]\n",
    "                y=j+ymove[k]\n",
    "            if (x<0)or(x>w-1)or(y<0)or(y>h-1):\n",
    "                continue\n",
    "            if b[y][x]==\"#\":\n",
    "                cnt+=1\n",
    "            temp.append(str(cnt))\n",
    "            t.append(temp)\n",
    "for i in range(h):\n",
    "    row=''\n",
    "    print(row)\n",
    "    \n",
    "    "
   ]
  },
  {
   "cell_type": "code",
   "execution_count": null,
   "metadata": {},
   "outputs": [],
   "source": []
  }
 ],
 "metadata": {
  "kernelspec": {
   "display_name": "Python 3",
   "language": "python",
   "name": "python3"
  },
  "language_info": {
   "codemirror_mode": {
    "name": "ipython",
    "version": 3
   },
   "file_extension": ".py",
   "mimetype": "text/x-python",
   "name": "python",
   "nbconvert_exporter": "python",
   "pygments_lexer": "ipython3",
   "version": "3.7.1"
  }
 },
 "nbformat": 4,
 "nbformat_minor": 2
}
