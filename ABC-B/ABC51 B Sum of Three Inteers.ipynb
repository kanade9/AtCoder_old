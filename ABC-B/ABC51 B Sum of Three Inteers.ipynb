{
 "cells": [
  {
   "cell_type": "code",
   "execution_count": 12,
   "metadata": {},
   "outputs": [
    {
     "name": "stdout",
     "output_type": "stream",
     "text": [
      "5 15\n",
      "1\n"
     ]
    }
   ],
   "source": [
    "k,s=map(int,input().split())\n",
    "cnt=0\n",
    "for l in range(k+1):\n",
    "    for m in range(k+1):\n",
    "        #2つが定まるともう一つの値は一意に定まる\n",
    "        if 0<=s-l-m and s-l-m<=k:\n",
    "            cnt+=1\n",
    "            #print(l,m,n)\n",
    "print(cnt)"
   ]
  },
  {
   "cell_type": "code",
   "execution_count": null,
   "metadata": {},
   "outputs": [],
   "source": []
  }
 ],
 "metadata": {
  "kernelspec": {
   "display_name": "Python 3",
   "language": "python",
   "name": "python3"
  },
  "language_info": {
   "codemirror_mode": {
    "name": "ipython",
    "version": 3
   },
   "file_extension": ".py",
   "mimetype": "text/x-python",
   "name": "python",
   "nbconvert_exporter": "python",
   "pygments_lexer": "ipython3",
   "version": "3.7.1"
  }
 },
 "nbformat": 4,
 "nbformat_minor": 2
}
