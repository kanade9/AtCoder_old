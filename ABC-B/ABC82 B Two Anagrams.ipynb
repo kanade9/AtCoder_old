{
 "cells": [
  {
   "cell_type": "code",
   "execution_count": 21,
   "metadata": {},
   "outputs": [
    {
     "name": "stdout",
     "output_type": "stream",
     "text": [
      "Y\n"
     ]
    }
   ],
   "source": [
    "x=(ord('a'))\n",
    "y=(ord('b'))\n",
    "print(\"Y\"if x<y else \"N\")"
   ]
  },
  {
   "cell_type": "code",
   "execution_count": 83,
   "metadata": {},
   "outputs": [
    {
     "name": "stdout",
     "output_type": "stream",
     "text": [
      "zzz\n",
      "zzz\n",
      "No\n"
     ]
    }
   ],
   "source": [
    "s=input()\n",
    "t=input()\n",
    "ok=False\n",
    "snum=[]\n",
    "tnum=[]\n",
    "for i in range(len(s)):\n",
    "    snum.append(ord(s[i]))\n",
    "snum.sort()\n",
    "for i in range(len(t)):\n",
    "    tnum.append(ord(t[i]))\n",
    "tnum.sort(reverse=True)\n",
    "if len(s)>=len(t):\n",
    "    round=len(t)\n",
    "else:\n",
    "    round=len(s)\n",
    "for i in range(round):\n",
    "    if (snum[i]<tnum[i]) or (snum==tnum[:round]and len(t)>len(s)):\n",
    "        ok=True\n",
    "        break\n",
    "print(\"Yes\"if ok else\"No\")"
   ]
  },
  {
   "cell_type": "code",
   "execution_count": 75,
   "metadata": {},
   "outputs": [
    {
     "name": "stdout",
     "output_type": "stream",
     "text": [
      "z\n",
      "zzz\n",
      "Yes\n"
     ]
    }
   ],
   "source": [
    "#82 mohan\n",
    "s = input()\n",
    "s_asc = ''.join(sorted(s))\n",
    "t = input()\n",
    "t_desc = ''.join(sorted(t,reverse=True))\n",
    "if s_asc < t_desc:\n",
    "    print('Yes')\n",
    "else:\n",
    "    print('No')"
   ]
  },
  {
   "cell_type": "code",
   "execution_count": 78,
   "metadata": {},
   "outputs": [
    {
     "name": "stdout",
     "output_type": "stream",
     "text": [
      "y\n"
     ]
    }
   ],
   "source": [
    "s1='aaa'\n",
    "s2='bbb'\n",
    "if s1<s2:\n",
    "    print(\"y\")"
   ]
  },
  {
   "cell_type": "code",
   "execution_count": null,
   "metadata": {},
   "outputs": [],
   "source": []
  }
 ],
 "metadata": {
  "kernelspec": {
   "display_name": "Python 3",
   "language": "python",
   "name": "python3"
  },
  "language_info": {
   "codemirror_mode": {
    "name": "ipython",
    "version": 3
   },
   "file_extension": ".py",
   "mimetype": "text/x-python",
   "name": "python",
   "nbconvert_exporter": "python",
   "pygments_lexer": "ipython3",
   "version": "3.7.1"
  }
 },
 "nbformat": 4,
 "nbformat_minor": 2
}
