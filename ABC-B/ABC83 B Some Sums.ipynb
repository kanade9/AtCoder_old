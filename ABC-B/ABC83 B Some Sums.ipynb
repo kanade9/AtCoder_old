{
 "cells": [
  {
   "cell_type": "code",
   "execution_count": 8,
   "metadata": {},
   "outputs": [
    {
     "name": "stdout",
     "output_type": "stream",
     "text": [
      "20 2 5\n",
      "1\n",
      "2\n",
      "3\n",
      "4\n",
      "5\n",
      "6\n",
      "7\n",
      "8\n",
      "9\n",
      "10\n",
      "11\n",
      "12\n",
      "13\n",
      "14\n",
      "15\n",
      "16\n",
      "17\n",
      "18\n",
      "19\n",
      "190\n"
     ]
    }
   ],
   "source": [
    "a,b,c=map(int,input().split())\n",
    "for i in range(1,a+1):\n",
    "    "
   ]
  },
  {
   "cell_type": "code",
   "execution_count": 1,
   "metadata": {},
   "outputs": [
    {
     "name": "stdout",
     "output_type": "stream",
     "text": [
      "20 2 5\n",
      "84\n"
     ]
    }
   ],
   "source": [
    "#バグによりpycharmで書きます。\n",
    "n,a,b = map(int, input().split())\n",
    "ans = 0\n",
    "for i in range(1,n+1):\n",
    "    c = list(str(i))\n",
    "    c = list(map(int,c))\n",
    "    s = sum(c)\n",
    "    if a<=s & s<=b:\n",
    "        ans += i\n",
    "print(ans)"
   ]
  },
  {
   "cell_type": "code",
   "execution_count": 2,
   "metadata": {},
   "outputs": [
    {
     "name": "stdout",
     "output_type": "stream",
     "text": [
      "12\n"
     ]
    }
   ],
   "source": [
    "a=[2,4,6]\n",
    "print(sum(a))"
   ]
  },
  {
   "cell_type": "code",
   "execution_count": 3,
   "metadata": {},
   "outputs": [
    {
     "name": "stdout",
     "output_type": "stream",
     "text": [
      "20 2 5\n",
      "84\n"
     ]
    }
   ],
   "source": [
    "n,a,b=map(int,input().split())\n",
    "cnt=0\n",
    "for i in range(1,n+1):\n",
    "    s=list(str(i))\n",
    "    s=list(map(int,s))\n",
    "    wa=sum(s)\n",
    "    if a<=wa and wa<=b:\n",
    "        cnt+=i\n",
    "print(cnt)"
   ]
  },
  {
   "cell_type": "code",
   "execution_count": null,
   "metadata": {},
   "outputs": [],
   "source": []
  },
  {
   "cell_type": "code",
   "execution_count": null,
   "metadata": {},
   "outputs": [],
   "source": []
  },
  {
   "cell_type": "code",
   "execution_count": 16,
   "metadata": {},
   "outputs": [
    {
     "name": "stdout",
     "output_type": "stream",
     "text": [
      "20 2 5\n",
      "84\n"
     ]
    }
   ],
   "source": [
    "n,a,b=map(int,input().split())\n",
    "ans=0\n",
    "for i in range(1,n+1):\n",
    "    c=list(str(i))\n",
    "    c=list(map(int,c))\n",
    "    wa=sum(c)\n",
    "    if a<=wa and wa<=b:\n",
    "           ans+=i\n",
    "print(ans)"
   ]
  },
  {
   "cell_type": "code",
   "execution_count": 8,
   "metadata": {},
   "outputs": [
    {
     "name": "stdout",
     "output_type": "stream",
     "text": [
      "['1', '2', '3', '4']\n",
      "[1, 2, 3, 4]\n"
     ]
    }
   ],
   "source": [
    "\n",
    "c='1234'\n",
    "c = list(str(c))\n",
    "print(c)\n",
    "c = list(map(int,c))\n",
    "print(c)\n",
    "#mapとはリストの中のもの全てに第一引数を適用"
   ]
  },
  {
   "cell_type": "code",
   "execution_count": 16,
   "metadata": {},
   "outputs": [
    {
     "name": "stdout",
     "output_type": "stream",
     "text": [
      "[]\n"
     ]
    }
   ],
   "source": [
    "def square(x):\n",
    "    return x**2\n",
    "c=[1,2,3,4,5,5]\n",
    "\n",
    "newlist=[x for x in c if x>50]\n",
    "print(newlist)"
   ]
  },
  {
   "cell_type": "code",
   "execution_count": 34,
   "metadata": {},
   "outputs": [
    {
     "name": "stdout",
     "output_type": "stream",
     "text": [
      "100 4 16\n",
      "4554\n"
     ]
    }
   ],
   "source": [
    "n,a,b=map(int,input().split())\n",
    "ans=0\n",
    "for i in range(1,n+1):\n",
    "    t=list(str(i))\n",
    "    wa=sum(list(map(int,t)))\n",
    "    if a<=wa and wa<=b:\n",
    "        #print(i)\n",
    "        ans+=i\n",
    "print(ans)\n",
    "    \n",
    "    "
   ]
  },
  {
   "cell_type": "code",
   "execution_count": 26,
   "metadata": {},
   "outputs": [
    {
     "data": {
      "text/plain": [
       "9"
      ]
     },
     "execution_count": 26,
     "metadata": {},
     "output_type": "execute_result"
    }
   ],
   "source": [
    "t='234'\n",
    "sum(list(map(int,t)))"
   ]
  },
  {
   "cell_type": "markdown",
   "metadata": {},
   "source": [
    "## "
   ]
  }
 ],
 "metadata": {
  "kernelspec": {
   "display_name": "Python 3",
   "language": "python",
   "name": "python3"
  },
  "language_info": {
   "codemirror_mode": {
    "name": "ipython",
    "version": 3
   },
   "file_extension": ".py",
   "mimetype": "text/x-python",
   "name": "python",
   "nbconvert_exporter": "python",
   "pygments_lexer": "ipython3",
   "version": "3.7.1"
  }
 },
 "nbformat": 4,
 "nbformat_minor": 2
}
